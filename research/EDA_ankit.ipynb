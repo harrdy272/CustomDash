{
 "cells": [
  {
   "cell_type": "code",
   "execution_count": 1,
   "metadata": {},
   "outputs": [],
   "source": [
    "import numpy as np\n",
    "import pandas as pd\n",
    "import matplotlib.pyplot as plt\n",
    "import seaborn as sns"
   ]
  },
  {
   "cell_type": "code",
   "execution_count": 2,
   "metadata": {},
   "outputs": [],
   "source": [
    "train_df = pd.read_csv(\"E:\\VIL Codefest\\secret\\VIL Confidential Information Dataset\\VIL Confidential Information Train.csv\")\n",
    "test_df = pd.read_csv(\"E:\\VIL Codefest\\secret\\VIL Confidential Information Dataset\\VIL Confidential Information Test.csv\")"
   ]
  },
  {
   "cell_type": "markdown",
   "metadata": {},
   "source": [
    "# Data Analysis"
   ]
  },
  {
   "cell_type": "markdown",
   "metadata": {},
   "source": [
    "### 01 - AGE SLAB"
   ]
  },
  {
   "cell_type": "code",
   "execution_count": 3,
   "metadata": {},
   "outputs": [],
   "source": [
    "age_slab_dict = {\"'AGE_24_TO_28_SLAB'\": '24-28',\n",
    "                 \"'AGE_29_TO_33_SLAB'\": '29-33',\n",
    "                 \"'AGE_18_TO_23_SLAB'\": '18-23',\n",
    "                 \"'AGE_GT_58'\": '>58',\n",
    "                 \"'AGE_34_TO_38_SLAB'\": '34-38',\n",
    "                 \"'AGE_39_TO_43_SLAB'\": '39-43',\n",
    "                 \"'AGE_44_TO_48_SLAB'\": '44-48',\n",
    "                 \"'AGE_49_TO_53_SLAB'\": '49-53',\n",
    "                 \"'AGE_54_TO_58_SLAB'\": '54-58',\n",
    "                 'Unknown': np.nan,\n",
    "                 \"'UNDEFINED'\": np.nan,\n",
    "                 \"'AGE_LT_18_SLAB'\": '<18'}\n",
    "\n",
    "train_df['AGE_SLAB'].replace(age_slab_dict, inplace=True)\n",
    "test_df['AGE_SLAB'].replace(age_slab_dict, inplace=True)"
   ]
  },
  {
   "cell_type": "markdown",
   "metadata": {},
   "source": [
    "### 02 - ARPU Slab"
   ]
  },
  {
   "cell_type": "code",
   "execution_count": 4,
   "metadata": {},
   "outputs": [],
   "source": [
    "arpu_slabs = {\n",
    "    \"'ARPU_301_TO_500_SLAB'\": '301-500',\n",
    "     \"'ARPU_0_TO_50_SLAB'\": '0-50',\n",
    "     \"'ARPU_101_TO_200_SLAB'\": '101-200',\n",
    "     \"'ARPU_201_TO_300_SLAB'\": '201-300',\n",
    "     \"'ARPU_501_TO_750_SLAB'\": '501-750',\n",
    "     \"'ARPU_GT_750'\": '>750',\n",
    "     'NO ARPU': '0',\n",
    "     \"'ARPU_51_TO_100_SLAB'\": '51-100',\n",
    "     'ARPU>750': '>750'\n",
    "}\n",
    "\n",
    "train_df['ARPU_SLAB'].replace(arpu_slabs, inplace=True)\n",
    "test_df['ARPU_SLAB'].replace(arpu_slabs, inplace=True)"
   ]
  },
  {
   "cell_type": "markdown",
   "metadata": {},
   "source": [
    "### 03 - Age on Network"
   ]
  },
  {
   "cell_type": "code",
   "execution_count": 5,
   "metadata": {},
   "outputs": [],
   "source": [
    "age_on_network_slabs = {\n",
    "    \"'A0N_GT_24'\": '>24',\n",
    "     \"AON_GT_24_MONTHS'\": '24',\n",
    "     \"A0N_13_TO_24_MONTHS_SLAB'\": '18-24',\n",
    "     \"'A0N_3_TO_6_MONTHS_SLAB'\": '3-6',\n",
    "     \"'A0N_18_TO_24_MONTHS_SLAB'\": '18-24',\n",
    "     \"'A0N_LT_3_MONTHS_SLAB'\": '<3',\n",
    "     \"'A0N_6_TO_9_MONTHS_SLAB'\": '6-9',\n",
    "     \"'A0N_9_TO_12_MONTHS_SLAB'\": '9-12',\n",
    "     \"'A0N_12_TO_18_MONTHS_SLAB'\": '12-18',\n",
    "     'Unknow': np.nan\n",
    "}\n",
    "\n",
    "train_df['Age_On_Network_SLAB'].replace(age_on_network_slabs, inplace=True)\n",
    "test_df['Age_On_Network_SLAB'].replace(age_on_network_slabs, inplace=True)"
   ]
  },
  {
   "cell_type": "markdown",
   "metadata": {},
   "source": [
    "### 04 - Bill Payment Aggregator Slab"
   ]
  },
  {
   "cell_type": "code",
   "execution_count": 6,
   "metadata": {},
   "outputs": [],
   "source": [
    "bill_payment_aggregator_slab = {\n",
    "    \"'Aggregator_301_TO_500_SLAB'\": '301-500',\n",
    "     \"'Aggregator_501_TO_1000_SLAB'\": '501-1000',\n",
    "     \"'Aggregator_GT_1000'\": '>1000',\n",
    "     \"'Aggregator_101_TO_300_SLAB'\": '101-300',\n",
    "     \"'Aggregator_1_TO_50_SLAB'\": '1-50',\n",
    "     \"'Aggregator_51_TO_100_SLAB'\": '51-100',\n",
    "     'Bill Payment Aggregator_Slab': '301-500'\n",
    "}\n",
    "\n",
    "train_df.replace(bill_payment_aggregator_slab, inplace=True)\n",
    "test_df.replace(bill_payment_aggregator_slab, inplace=True)"
   ]
  },
  {
   "cell_type": "markdown",
   "metadata": {},
   "source": [
    "### 07 - Connection type"
   ]
  },
  {
   "cell_type": "code",
   "execution_count": 7,
   "metadata": {},
   "outputs": [],
   "source": [
    "connection_type_slab = {\n",
    "    'PREPAID': 'Prepaid', \n",
    "    'Prepaid': 'Prepaid', \n",
    "    'Postpaid': 'Postpaid', \n",
    "    'POSTPAID': 'Postpaid'\n",
    "}\n",
    "\n",
    "train_df['Connection_Type\\n(_Prepaid/Postpaid)'].replace(connection_type_slab, inplace=True)\n",
    "test_df['Connection_Type\\n(_Prepaid/Postpaid)'].replace(connection_type_slab, inplace=True)"
   ]
  },
  {
   "cell_type": "code",
   "execution_count": 8,
   "metadata": {},
   "outputs": [],
   "source": [
    "train_df.replace(-99, np.nan, inplace=True)\n",
    "test_df.replace(-99, np.nan, inplace=True)"
   ]
  },
  {
   "cell_type": "markdown",
   "metadata": {},
   "source": [
    "### 15 - Recharge_Slab"
   ]
  },
  {
   "cell_type": "code",
   "execution_count": 9,
   "metadata": {},
   "outputs": [],
   "source": [
    "recharge_slab = {\n",
    "     \"'Recharge_101_TO_300_SLAB'\": '101-300',\n",
    "     \"'Recharge_1_TO_50_SLAB'\": '1-50',\n",
    "     'NO Recharge': '0',\n",
    "     \"Recharge_301_TO_500_SLAB'\": '301-500',\n",
    "     \"'Recharge_301_TO_500_SLAB'\": '301-500',\n",
    "     \"'Recharge_501_TO_1000_SLAB'\": '501-1000',\n",
    "     \"Recharge_201_TO_300_SLAB'\": '201-300',\n",
    "     \"'Recharge_51_TO_100_SLAB'\": '51-100',\n",
    "     \"Recharge_101_TO_200_SLAB'\": '101-200',\n",
    "     \"Recharge_0_TO_50_SLAB'\": '1-50',\n",
    "     \"Recharge_51_TO_100_SLAB'\": '51-100',\n",
    "     \"Recharge_GT_750'\": '751-1000',\n",
    "     \"Recharge_501_TO_750_SLAB'\": '501-750',\n",
    "     \"'Recharge_GT_1000'\": '>100'\n",
    "}\n",
    "\n",
    "train_df['Recharge_Slab'].replace(recharge_slab, inplace=True)\n",
    "test_df['Recharge_Slab'].replace(recharge_slab, inplace=True)"
   ]
  },
  {
   "cell_type": "markdown",
   "metadata": {},
   "source": [
    "### 16 - Sms_Usage_(Slab)"
   ]
  },
  {
   "cell_type": "code",
   "execution_count": 10,
   "metadata": {},
   "outputs": [],
   "source": [
    "sms_usage_slab = {\n",
    "     \"'SMS_0_TO_25_SLAB'\": '1-25',\n",
    "     \"''SMS_1_TO_25_SLAB''\": '1-25',\n",
    "     \"'SMS_26_TO_50_SLAB'\": '26-50',\n",
    "     'NO SMS': '0',\n",
    "     \"'SMS_51_TO_100_SLAB'\": '51-100',\n",
    "     \"''SMS_101_TO_300_SLAB'\": '101-300',\n",
    "     \"'SMS_101_TO_300_SLAB'\": '101-300',\n",
    "     \"''SMS_301_TO_500_SLAB'\": '301-500',\n",
    "     \"'SMS_GT_1000'\": '>1000',\n",
    "     \"''SMS_501_TO_1000_SLAB'\": '501-1000',\n",
    "     \"'SMS_301_TO_500_SLAB'\": '301-500',\n",
    "     \"'SMS_501_TO_1000_SLAB'\": '501-1000'\n",
    "}\n",
    "\n",
    "train_df['Sms_Usage_(Slab)'].replace(sms_usage_slab, inplace=True)\n",
    "test_df['Sms_Usage_(Slab)'].replace(sms_usage_slab, inplace=True)"
   ]
  },
  {
   "cell_type": "markdown",
   "metadata": {},
   "source": [
    "### 17 - Vas_Subscription"
   ]
  },
  {
   "cell_type": "code",
   "execution_count": 11,
   "metadata": {},
   "outputs": [],
   "source": [
    "vas_subscription = dict(train_df['Vas_Subscription'].value_counts())"
   ]
  },
  {
   "cell_type": "code",
   "execution_count": 12,
   "metadata": {},
   "outputs": [],
   "source": [
    "for key in vas_subscription.keys():\n",
    "    vas_subscription[key] = key.strip()"
   ]
  },
  {
   "cell_type": "code",
   "execution_count": 13,
   "metadata": {},
   "outputs": [],
   "source": [
    "train_df['Vas_Subscription'].replace(vas_subscription, inplace=True)\n",
    "test_df['Vas_Subscription'].replace(vas_subscription, inplace=True)"
   ]
  },
  {
   "cell_type": "markdown",
   "metadata": {},
   "source": [
    "### 18 - Voice_Usage_SLAB"
   ]
  },
  {
   "cell_type": "code",
   "execution_count": 14,
   "metadata": {},
   "outputs": [],
   "source": [
    "voice_usage_slabs = {\n",
    "    \"'MOU_GT_1000'\": '>1000',\n",
    "     \"'MOU_0_TO_50_SLAB'\": '0-50',\n",
    "     \"'MOU_301_TO_500_SLAB'\": '301-500',\n",
    "     \"'MOU_101_TO_200_SLAB'\": '101-200',\n",
    "     \"'MOU_501_TO_750_SLAB'\": '501-750',\n",
    "     \"'MOU_201_TO_300_SLAB'\": '201-300',\n",
    "     \"'MOU_51_TO_100_SLAB'\": '51-100',\n",
    "     \"''MOU_501_TO_750_SLAB'\": '501-750',\n",
    "     \"'MOU_750_TO_1000_SLAB'\": '751-1000',\n",
    "     \"''MOU_301_TO_500_SLAB'\": '301-500',\n",
    "     \"''MOU_751_TO_1000_SLAB'\": '751-1000',\n",
    "     \"''MOU_101_TO_200_SLAB'\": '101-200',\n",
    "     \"''MOU_0_TO_50_SLAB'\": '0-50',\n",
    "     \"''MOU_201_TO_300_SLAB'\": '201-300',\n",
    "     \"''MOU_51_TO_100_SLAB'\": '51-100',\n",
    "     'NO MOU': '0'\n",
    "}\n",
    "\n",
    "train_df['Voice_Usage_SLAB'].replace(voice_usage_slabs, inplace=True)\n",
    "test_df['Voice_Usage_SLAB'].replace(voice_usage_slabs, inplace=True)"
   ]
  },
  {
   "cell_type": "markdown",
   "metadata": {},
   "source": [
    "### 20 - Data_Usage_Slab"
   ]
  },
  {
   "cell_type": "code",
   "execution_count": 15,
   "metadata": {},
   "outputs": [],
   "source": [
    "data_usage_slabs = {\n",
    "    \"''DATA__GB_15_GB_SLAB'\": '10-15',\n",
    "     \"'DATA_GT_15_GB'\": '>15',\n",
    "     \"'DATA_0_MB_TO_1_GB_SLAB'\": '<1',\n",
    "     \"'DATA_GT_10_GB_TO_15_GB_SLAB'\": '10-15',\n",
    "     \"''DATA_0_MB_TO_1_GB_SLAB'\": '<1',\n",
    "     \"'DATA_GT_1_GB_TO_3_GB_SLAB'\": '1-3',\n",
    "     \"'DATA_GT_5_GB_TO_7.5_GB_SLAB'\": '5-7.5',\n",
    "     \"'DATA_GT_7.5_GB_TO_10_GB_SLAB'\": '7.5-10',\n",
    "     \"'DATA_GT_3_GB_TO_5_GB_SLAB'\": '3-5',\n",
    "     \"''DATA_10_GB_TO_15_GB_SLAB'\": '10-15',\n",
    "     'NO DATA USAGE': '0',\n",
    "     \"''DATA_1_GB_TO_3_GB_SLAB'\": '1-3',\n",
    "     \"''DATA_3_GB_TO_5_GB_SLAB'\": '3-5',\n",
    "     \"''DATA_5_GB_TO_7.5_GB_SLAB'\": '5-7.5',\n",
    "     \"''DATA_7.5_GB_TO_10_GB_SLAB'\": '7.5-10'\n",
    "}\n",
    "\n",
    "train_df['Data_Usage_(Slab)'].replace(data_usage_slabs, inplace=True)\n",
    "test_df['Data_Usage_(Slab)'].replace(data_usage_slabs, inplace=True)"
   ]
  },
  {
   "cell_type": "markdown",
   "metadata": {},
   "source": [
    "### 21 - Gender"
   ]
  },
  {
   "cell_type": "code",
   "execution_count": 16,
   "metadata": {},
   "outputs": [],
   "source": [
    "gender_slabs = {\n",
    "    'M': 'M',\n",
    "     'Male': 'M',\n",
    "     'F': 'F',\n",
    "     'Female': 'F',\n",
    "     'O': 'O',\n",
    "     'UNKNOWN': np.nan,\n",
    "     '-99': np.nan,\n",
    "     'U': np.nan\n",
    "}\n",
    "\n",
    "train_df['GENDER'].replace(gender_slabs, inplace=True)\n",
    "test_df['GENDER'].replace(gender_slabs, inplace=True)"
   ]
  },
  {
   "cell_type": "markdown",
   "metadata": {},
   "source": [
    "### Columns"
   ]
  },
  {
   "cell_type": "code",
   "execution_count": 17,
   "metadata": {},
   "outputs": [
    {
     "data": {
      "text/plain": [
       "Index(['AGE_SLAB', 'ARPU_SLAB', 'Age_On_Network_SLAB',\n",
       "       'Bill_Payment_Aggregator_Slab', 'Brand_Identifier', 'Circle_Name',\n",
       "       'Connection_Type\\n(_Prepaid/Postpaid)', 'DND_SERVICE', 'DND_STATUS',\n",
       "       'Data_Usage_(Slab)', 'GENDER', 'Genre', 'Identifier',\n",
       "       'International_Usage', 'OTT_Content_App', 'Pincode', 'Recharge_Slab',\n",
       "       'Sms_Usage_(Slab)', 'Vas_Subscription', 'Voice_Usage_SLAB',\n",
       "       'WEBAPP_FLAG'],\n",
       "      dtype='object')"
      ]
     },
     "execution_count": 17,
     "metadata": {},
     "output_type": "execute_result"
    }
   ],
   "source": [
    "train_df.columns"
   ]
  },
  {
   "cell_type": "code",
   "execution_count": 18,
   "metadata": {},
   "outputs": [],
   "source": [
    "train_df.columns = ['Age', 'ARPU', 'Age on Network', 'Bill Payment Aggregator', 'Brand Identifier', 'Circle Name',\n",
    "                    'Connection Type', 'DND Service', 'DND Status', 'Data Usage', 'Gender', 'Genre', 'ID', 'International Usage',\n",
    "                    'OTT Content App', 'Pincode', 'Recharge', 'SMS Usage', 'VAS Subscription', 'Voice Usage', 'Web/App']"
   ]
  },
  {
   "cell_type": "code",
   "execution_count": 19,
   "metadata": {},
   "outputs": [],
   "source": [
    "test_df.columns = ['Age', 'ARPU', 'Age on Network', 'Bill Payment Aggregator', 'Brand Identifier', 'Circle Name',\n",
    "                    'Connection Type', 'DND Service', 'DND Status', 'Data Usage', 'Gender', 'Genre', 'ID', 'International Usage',\n",
    "                    'OTT Content App', 'Pincode', 'Recharge', 'SMS Usage', 'VAS Subscription', 'Voice Usage', 'Web/App']"
   ]
  },
  {
   "cell_type": "markdown",
   "metadata": {},
   "source": [
    "# DND"
   ]
  },
  {
   "cell_type": "code",
   "execution_count": 20,
   "metadata": {},
   "outputs": [],
   "source": [
    "dnd = []\n",
    "for i in range(len(train_df['DND Status'])):\n",
    "    if train_df.iloc[i]['DND Status'] == 'NO_DND':\n",
    "        dnd.append('N')\n",
    "    elif train_df.iloc[i]['DND Status'] == 'ACTIVE_DND':\n",
    "        dnd.append('Y')\n",
    "    elif train_df.iloc[i]['DND Service'] == 'Y':\n",
    "        dnd.append('Y')\n",
    "    else:\n",
    "        dnd.append('N')"
   ]
  },
  {
   "cell_type": "code",
   "execution_count": 21,
   "metadata": {},
   "outputs": [],
   "source": [
    "train_df['DND'] = dnd"
   ]
  },
  {
   "cell_type": "code",
   "execution_count": 22,
   "metadata": {},
   "outputs": [],
   "source": [
    "dnd = []\n",
    "for i in range(len(test_df['DND Status'])):\n",
    "    if test_df.iloc[i]['DND Status'] == 'NO_DND':\n",
    "        dnd.append('N')\n",
    "    elif test_df.iloc[i]['DND Status'] == 'ACTIVE_DND':\n",
    "        dnd.append('Y')\n",
    "    elif test_df.iloc[i]['DND Service'] == 'Y':\n",
    "        dnd.append('Y')\n",
    "    else:\n",
    "        dnd.append('N')"
   ]
  },
  {
   "cell_type": "code",
   "execution_count": 23,
   "metadata": {},
   "outputs": [],
   "source": [
    "test_df['DND'] = dnd"
   ]
  },
  {
   "cell_type": "code",
   "execution_count": 24,
   "metadata": {},
   "outputs": [],
   "source": [
    "train_df.drop(['DND Service', 'DND Status'], axis=1, inplace=True)"
   ]
  },
  {
   "cell_type": "code",
   "execution_count": 25,
   "metadata": {},
   "outputs": [],
   "source": [
    "test_df.drop(['DND Service', 'DND Status'], axis=1, inplace=True)"
   ]
  },
  {
   "cell_type": "markdown",
   "metadata": {},
   "source": [
    "# Saving to a csv file"
   ]
  },
  {
   "cell_type": "code",
   "execution_count": 27,
   "metadata": {},
   "outputs": [],
   "source": [
    "train_df.to_csv('E:\\VIL Codefest\\secret\\VIL Confidential Information Dataset\\Train.csv', index=False)\n",
    "test_df.to_csv('E:\\VIL Codefest\\secret\\VIL Confidential Information Dataset\\Test.csv', index=False)"
   ]
  },
  {
   "cell_type": "code",
   "execution_count": null,
   "metadata": {},
   "outputs": [],
   "source": []
  }
 ],
 "metadata": {
  "kernelspec": {
   "display_name": "Python 3",
   "language": "python",
   "name": "python3"
  },
  "language_info": {
   "codemirror_mode": {
    "name": "ipython",
    "version": 3
   },
   "file_extension": ".py",
   "mimetype": "text/x-python",
   "name": "python",
   "nbconvert_exporter": "python",
   "pygments_lexer": "ipython3",
   "version": "3.7.6"
  }
 },
 "nbformat": 4,
 "nbformat_minor": 2
}
