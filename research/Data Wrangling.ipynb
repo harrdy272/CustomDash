{
 "cells": [
  {
   "cell_type": "code",
<<<<<<< HEAD
<<<<<<< HEAD
   "execution_count": 15,
=======
   "execution_count": 4,
>>>>>>> e5ca16c32e7441419779f187033ab63b47ec6863
=======
   "execution_count": 2,
>>>>>>> 595f3dde4170d7f1991df48737a1e281cf186d0c
   "metadata": {},
   "outputs": [],
   "source": [
    "import numpy as np\n",
    "import pandas as pd\n",
    "from sklearn.ensemble import RandomForestClassifier\n",
    "from sklearn.model_selection import train_test_split\n",
    "from sklearn.metrics import accuracy_score\n",
    "from sklearn.preprocessing import LabelEncoder, StandardScaler"
   ]
  },
  {
   "cell_type": "code",
<<<<<<< HEAD
<<<<<<< HEAD
   "execution_count": 16,
   "metadata": {},
   "outputs": [],
   "source": [
    "train_df = pd.read_csv('E:\\VIL Confidential Information Dataset\\Train.csv')\n",
    "test_df = pd.read_csv('E:\\VIL Confidential Information Dataset\\Test.csv')"
=======
   "execution_count": 5,
=======
   "execution_count": 3,
>>>>>>> 595f3dde4170d7f1991df48737a1e281cf186d0c
   "metadata": {},
   "outputs": [],
   "source": [
    "train_df = pd.read_csv('E:\\VIL Codefest\\secret\\VIL Confidential Information Dataset\\Train.csv')\n",
    "test_df = pd.read_csv('E:\\VIL Codefest\\secret\\VIL Confidential Information Dataset\\Test.csv')"
>>>>>>> e5ca16c32e7441419779f187033ab63b47ec6863
   ]
  },
  {
   "cell_type": "code",
<<<<<<< HEAD
<<<<<<< HEAD
   "execution_count": 17,
=======
   "execution_count": 6,
>>>>>>> e5ca16c32e7441419779f187033ab63b47ec6863
=======
   "execution_count": 4,
>>>>>>> 595f3dde4170d7f1991df48737a1e281cf186d0c
   "metadata": {},
   "outputs": [
    {
     "data": {
      "text/html": [
       "<div>\n",
       "<style scoped>\n",
       "    .dataframe tbody tr th:only-of-type {\n",
       "        vertical-align: middle;\n",
       "    }\n",
       "\n",
       "    .dataframe tbody tr th {\n",
       "        vertical-align: top;\n",
       "    }\n",
       "\n",
       "    .dataframe thead th {\n",
       "        text-align: right;\n",
       "    }\n",
       "</style>\n",
       "<table border=\"1\" class=\"dataframe\">\n",
       "  <thead>\n",
       "    <tr style=\"text-align: right;\">\n",
       "      <th></th>\n",
       "      <th>Age</th>\n",
       "      <th>ARPU</th>\n",
       "      <th>Age on Network</th>\n",
       "      <th>Bill Payment Aggregator</th>\n",
       "      <th>Brand Identifier</th>\n",
       "      <th>Circle Name</th>\n",
       "      <th>Connection Type</th>\n",
       "      <th>Data Usage</th>\n",
       "      <th>Gender</th>\n",
       "      <th>Genre</th>\n",
       "      <th>ID</th>\n",
       "      <th>International Usage</th>\n",
       "      <th>OTT Content App</th>\n",
       "      <th>Pincode</th>\n",
       "      <th>Recharge</th>\n",
       "      <th>SMS Usage</th>\n",
       "      <th>VAS Subscription</th>\n",
       "      <th>Voice Usage</th>\n",
       "      <th>Web/App</th>\n",
       "      <th>DND</th>\n",
       "    </tr>\n",
       "  </thead>\n",
       "  <tbody>\n",
       "    <tr>\n",
       "      <th>0</th>\n",
       "      <td>24-28</td>\n",
       "      <td>0-50</td>\n",
       "      <td>24</td>\n",
       "      <td>NaN</td>\n",
       "      <td>Vodafone</td>\n",
       "      <td>Kolkata</td>\n",
       "      <td>Prepaid</td>\n",
       "      <td>10-15</td>\n",
       "      <td>M</td>\n",
       "      <td>Game Series</td>\n",
       "      <td>VFMUKOL38741</td>\n",
       "      <td>NaN</td>\n",
       "      <td>Yes</td>\n",
       "      <td>700040.0</td>\n",
       "      <td>501-1000</td>\n",
       "      <td>51-100</td>\n",
       "      <td>HOICHOI PARTNER PACK</td>\n",
       "      <td>501-750</td>\n",
       "      <td>Non_User</td>\n",
       "      <td>N</td>\n",
       "    </tr>\n",
       "    <tr>\n",
       "      <th>1</th>\n",
       "      <td>39-43</td>\n",
       "      <td>0-50</td>\n",
       "      <td>&lt;3</td>\n",
       "      <td>NaN</td>\n",
       "      <td>Vodafone</td>\n",
       "      <td>Kolkata</td>\n",
       "      <td>Prepaid</td>\n",
       "      <td>&lt;1</td>\n",
       "      <td>M</td>\n",
       "      <td>Marathi Drama</td>\n",
       "      <td>VFMUKOL54162</td>\n",
       "      <td>NaN</td>\n",
       "      <td>Yes</td>\n",
       "      <td>700038.0</td>\n",
       "      <td>101-300</td>\n",
       "      <td>1-25</td>\n",
       "      <td>NaN</td>\n",
       "      <td>751-1000</td>\n",
       "      <td>Non_User</td>\n",
       "      <td>N</td>\n",
       "    </tr>\n",
       "    <tr>\n",
       "      <th>2</th>\n",
       "      <td>29-33</td>\n",
       "      <td>101-200</td>\n",
       "      <td>&gt;24</td>\n",
       "      <td>NaN</td>\n",
       "      <td>Idea</td>\n",
       "      <td>Delhi</td>\n",
       "      <td>Prepaid</td>\n",
       "      <td>10-15</td>\n",
       "      <td>M</td>\n",
       "      <td>Marathi Drama</td>\n",
       "      <td>IDKRDL59718</td>\n",
       "      <td>NaN</td>\n",
       "      <td>Yes</td>\n",
       "      <td>110053.0</td>\n",
       "      <td>101-200</td>\n",
       "      <td>1-25</td>\n",
       "      <td>NaN</td>\n",
       "      <td>&gt;1000</td>\n",
       "      <td>Non_User</td>\n",
       "      <td>Y</td>\n",
       "    </tr>\n",
       "    <tr>\n",
       "      <th>3</th>\n",
       "      <td>&gt;58</td>\n",
       "      <td>&gt;750</td>\n",
       "      <td>18-24</td>\n",
       "      <td>NaN</td>\n",
       "      <td>Vodafone</td>\n",
       "      <td>Mumbai</td>\n",
       "      <td>Prepaid</td>\n",
       "      <td>&gt;15</td>\n",
       "      <td>F</td>\n",
       "      <td>Game Series</td>\n",
       "      <td>VFMUKOL5295</td>\n",
       "      <td>Yes</td>\n",
       "      <td>Yes</td>\n",
       "      <td>410218.0</td>\n",
       "      <td>201-300</td>\n",
       "      <td>1-25</td>\n",
       "      <td>NaN</td>\n",
       "      <td>501-750</td>\n",
       "      <td>Non_User</td>\n",
       "      <td>Y</td>\n",
       "    </tr>\n",
       "    <tr>\n",
       "      <th>4</th>\n",
       "      <td>&gt;58</td>\n",
       "      <td>301-500</td>\n",
       "      <td>3-6</td>\n",
       "      <td>301-500</td>\n",
       "      <td>Vodafone</td>\n",
       "      <td>Kolkata</td>\n",
       "      <td>Postpaid</td>\n",
       "      <td>10-15</td>\n",
       "      <td>O</td>\n",
       "      <td>Marathi Drama</td>\n",
       "      <td>VFMUKOL60365</td>\n",
       "      <td>NaN</td>\n",
       "      <td>Yes</td>\n",
       "      <td>700091.0</td>\n",
       "      <td>NaN</td>\n",
       "      <td>26-50</td>\n",
       "      <td>HOICHOI PARTNER PACK</td>\n",
       "      <td>501-750</td>\n",
       "      <td>Non_User</td>\n",
       "      <td>N</td>\n",
       "    </tr>\n",
       "  </tbody>\n",
       "</table>\n",
       "</div>"
      ],
      "text/plain": [
       "     Age     ARPU Age on Network Bill Payment Aggregator Brand Identifier  \\\n",
       "0  24-28     0-50             24                     NaN         Vodafone   \n",
       "1  39-43     0-50             <3                     NaN         Vodafone   \n",
       "2  29-33  101-200            >24                     NaN             Idea   \n",
       "3    >58     >750          18-24                     NaN         Vodafone   \n",
       "4    >58  301-500            3-6                 301-500         Vodafone   \n",
       "\n",
       "  Circle Name Connection Type Data Usage Gender          Genre            ID  \\\n",
       "0     Kolkata         Prepaid      10-15      M    Game Series  VFMUKOL38741   \n",
       "1     Kolkata         Prepaid         <1      M  Marathi Drama  VFMUKOL54162   \n",
       "2       Delhi         Prepaid      10-15      M  Marathi Drama   IDKRDL59718   \n",
       "3      Mumbai         Prepaid        >15      F    Game Series   VFMUKOL5295   \n",
       "4     Kolkata        Postpaid      10-15      O  Marathi Drama  VFMUKOL60365   \n",
       "\n",
       "  International Usage OTT Content App   Pincode  Recharge SMS Usage  \\\n",
       "0                 NaN             Yes  700040.0  501-1000    51-100   \n",
       "1                 NaN             Yes  700038.0   101-300      1-25   \n",
       "2                 NaN             Yes  110053.0   101-200      1-25   \n",
       "3                 Yes             Yes  410218.0   201-300      1-25   \n",
       "4                 NaN             Yes  700091.0       NaN     26-50   \n",
       "\n",
       "       VAS Subscription Voice Usage   Web/App DND  \n",
       "0  HOICHOI PARTNER PACK     501-750  Non_User   N  \n",
       "1                   NaN    751-1000  Non_User   N  \n",
       "2                   NaN       >1000  Non_User   Y  \n",
       "3                   NaN     501-750  Non_User   Y  \n",
       "4  HOICHOI PARTNER PACK     501-750  Non_User   N  "
      ]
     },
<<<<<<< HEAD
<<<<<<< HEAD
     "execution_count": 17,
=======
     "execution_count": 6,
>>>>>>> e5ca16c32e7441419779f187033ab63b47ec6863
=======
     "execution_count": 4,
>>>>>>> 595f3dde4170d7f1991df48737a1e281cf186d0c
     "metadata": {},
     "output_type": "execute_result"
    }
   ],
   "source": [
    "train_df.head()"
   ]
  },
  {
   "cell_type": "markdown",
   "metadata": {},
   "source": [
    "# DROPPING"
   ]
  },
  {
   "cell_type": "code",
<<<<<<< HEAD
<<<<<<< HEAD
   "execution_count": 18,
=======
   "execution_count": 7,
>>>>>>> e5ca16c32e7441419779f187033ab63b47ec6863
=======
   "execution_count": 5,
>>>>>>> 595f3dde4170d7f1991df48737a1e281cf186d0c
   "metadata": {},
   "outputs": [],
   "source": [
    "train_df.drop(['Bill Payment Aggregator', 'OTT Content App', 'Pincode', 'ID'], axis=1, inplace=True)"
   ]
  },
  {
   "cell_type": "code",
<<<<<<< HEAD
<<<<<<< HEAD
   "execution_count": 19,
=======
   "execution_count": 8,
>>>>>>> e5ca16c32e7441419779f187033ab63b47ec6863
=======
   "execution_count": 6,
>>>>>>> 595f3dde4170d7f1991df48737a1e281cf186d0c
   "metadata": {},
   "outputs": [],
   "source": [
    "test_df.drop(['Bill Payment Aggregator', 'OTT Content App', 'Pincode', 'ID'], axis=1, inplace=True)"
   ]
  },
  {
   "cell_type": "code",
<<<<<<< HEAD
<<<<<<< HEAD
   "execution_count": 20,
=======
   "execution_count": 9,
>>>>>>> e5ca16c32e7441419779f187033ab63b47ec6863
=======
   "execution_count": 7,
>>>>>>> 595f3dde4170d7f1991df48737a1e281cf186d0c
   "metadata": {},
   "outputs": [
    {
     "data": {
      "text/html": [
       "<div>\n",
       "<style scoped>\n",
       "    .dataframe tbody tr th:only-of-type {\n",
       "        vertical-align: middle;\n",
       "    }\n",
       "\n",
       "    .dataframe tbody tr th {\n",
       "        vertical-align: top;\n",
       "    }\n",
       "\n",
       "    .dataframe thead th {\n",
       "        text-align: right;\n",
       "    }\n",
       "</style>\n",
       "<table border=\"1\" class=\"dataframe\">\n",
       "  <thead>\n",
       "    <tr style=\"text-align: right;\">\n",
       "      <th></th>\n",
       "      <th>Age</th>\n",
       "      <th>ARPU</th>\n",
       "      <th>Age on Network</th>\n",
       "      <th>Brand Identifier</th>\n",
       "      <th>Circle Name</th>\n",
       "      <th>Connection Type</th>\n",
       "      <th>Data Usage</th>\n",
       "      <th>Gender</th>\n",
       "      <th>Genre</th>\n",
       "      <th>International Usage</th>\n",
       "      <th>Recharge</th>\n",
       "      <th>SMS Usage</th>\n",
       "      <th>VAS Subscription</th>\n",
       "      <th>Voice Usage</th>\n",
       "      <th>Web/App</th>\n",
       "      <th>DND</th>\n",
       "    </tr>\n",
       "  </thead>\n",
       "  <tbody>\n",
       "    <tr>\n",
       "      <th>0</th>\n",
       "      <td>&gt;58</td>\n",
       "      <td>0-50</td>\n",
       "      <td>24</td>\n",
       "      <td>Vodafone</td>\n",
       "      <td>Kolkata</td>\n",
       "      <td>Prepaid</td>\n",
       "      <td>&lt;1</td>\n",
       "      <td>M</td>\n",
       "      <td>Marathi Drama</td>\n",
       "      <td>NaN</td>\n",
       "      <td>1-50</td>\n",
       "      <td>1-25</td>\n",
       "      <td>NaN</td>\n",
       "      <td>0-50</td>\n",
       "      <td>Non_User</td>\n",
       "      <td>N</td>\n",
       "    </tr>\n",
       "    <tr>\n",
       "      <th>1</th>\n",
       "      <td>39-43</td>\n",
       "      <td>101-200</td>\n",
       "      <td>18-24</td>\n",
       "      <td>Vodafone</td>\n",
       "      <td>Kolkata</td>\n",
       "      <td>Prepaid</td>\n",
       "      <td>10-15</td>\n",
       "      <td>F</td>\n",
       "      <td>Marathi Drama</td>\n",
       "      <td>NaN</td>\n",
       "      <td>101-300</td>\n",
       "      <td>1-25</td>\n",
       "      <td>MOVIES AND TV TRAIL PACK GOT ACTIVATED WITHOUT...</td>\n",
       "      <td>101-200</td>\n",
       "      <td>Non_User</td>\n",
       "      <td>N</td>\n",
       "    </tr>\n",
       "    <tr>\n",
       "      <th>2</th>\n",
       "      <td>39-43</td>\n",
       "      <td>501-750</td>\n",
       "      <td>&gt;24</td>\n",
       "      <td>Idea</td>\n",
       "      <td>Kerala</td>\n",
       "      <td>Postpaid</td>\n",
       "      <td>7.5-10</td>\n",
       "      <td>M</td>\n",
       "      <td>Game Series</td>\n",
       "      <td>NaN</td>\n",
       "      <td>NaN</td>\n",
       "      <td>1-25</td>\n",
       "      <td>NaN</td>\n",
       "      <td>&gt;1000</td>\n",
       "      <td>APP</td>\n",
       "      <td>N</td>\n",
       "    </tr>\n",
       "    <tr>\n",
       "      <th>3</th>\n",
       "      <td>39-43</td>\n",
       "      <td>&gt;750</td>\n",
       "      <td>6-9</td>\n",
       "      <td>Idea</td>\n",
       "      <td>Kerala</td>\n",
       "      <td>Postpaid</td>\n",
       "      <td>3-5</td>\n",
       "      <td>M</td>\n",
       "      <td>Game Series</td>\n",
       "      <td>NaN</td>\n",
       "      <td>NaN</td>\n",
       "      <td>0</td>\n",
       "      <td>NaN</td>\n",
       "      <td>101-200</td>\n",
       "      <td>APP</td>\n",
       "      <td>N</td>\n",
       "    </tr>\n",
       "    <tr>\n",
       "      <th>4</th>\n",
       "      <td>&gt;58</td>\n",
       "      <td>&gt;750</td>\n",
       "      <td>&gt;24</td>\n",
       "      <td>Idea</td>\n",
       "      <td>Kerala</td>\n",
       "      <td>Postpaid</td>\n",
       "      <td>10-15</td>\n",
       "      <td>M</td>\n",
       "      <td>Game Series</td>\n",
       "      <td>NaN</td>\n",
       "      <td>NaN</td>\n",
       "      <td>1-25</td>\n",
       "      <td>NaN</td>\n",
       "      <td>&gt;1000</td>\n",
       "      <td>Non_User</td>\n",
       "      <td>N</td>\n",
       "    </tr>\n",
       "  </tbody>\n",
       "</table>\n",
       "</div>"
      ],
      "text/plain": [
       "     Age     ARPU Age on Network Brand Identifier Circle Name Connection Type  \\\n",
       "0    >58     0-50             24         Vodafone     Kolkata         Prepaid   \n",
       "1  39-43  101-200          18-24         Vodafone     Kolkata         Prepaid   \n",
       "2  39-43  501-750            >24             Idea      Kerala        Postpaid   \n",
       "3  39-43     >750            6-9             Idea      Kerala        Postpaid   \n",
       "4    >58     >750            >24             Idea      Kerala        Postpaid   \n",
       "\n",
       "  Data Usage Gender          Genre International Usage Recharge SMS Usage  \\\n",
       "0         <1      M  Marathi Drama                 NaN     1-50      1-25   \n",
       "1      10-15      F  Marathi Drama                 NaN  101-300      1-25   \n",
       "2     7.5-10      M    Game Series                 NaN      NaN      1-25   \n",
       "3        3-5      M    Game Series                 NaN      NaN         0   \n",
       "4      10-15      M    Game Series                 NaN      NaN      1-25   \n",
       "\n",
       "                                    VAS Subscription Voice Usage   Web/App DND  \n",
       "0                                                NaN        0-50  Non_User   N  \n",
       "1  MOVIES AND TV TRAIL PACK GOT ACTIVATED WITHOUT...     101-200  Non_User   N  \n",
       "2                                                NaN       >1000       APP   N  \n",
       "3                                                NaN     101-200       APP   N  \n",
       "4                                                NaN       >1000  Non_User   N  "
      ]
     },
<<<<<<< HEAD
<<<<<<< HEAD
     "execution_count": 20,
=======
     "execution_count": 9,
>>>>>>> e5ca16c32e7441419779f187033ab63b47ec6863
=======
     "execution_count": 7,
>>>>>>> 595f3dde4170d7f1991df48737a1e281cf186d0c
     "metadata": {},
     "output_type": "execute_result"
    }
   ],
   "source": [
    "test_df.head()"
   ]
  },
  {
   "cell_type": "markdown",
   "metadata": {},
   "source": [
    "# Missing Values"
   ]
  },
  {
   "cell_type": "code",
<<<<<<< HEAD
<<<<<<< HEAD
   "execution_count": 21,
=======
   "execution_count": 10,
>>>>>>> e5ca16c32e7441419779f187033ab63b47ec6863
=======
   "execution_count": 8,
>>>>>>> 595f3dde4170d7f1991df48737a1e281cf186d0c
   "metadata": {},
   "outputs": [
    {
     "data": {
      "text/plain": [
       "Age                      2824\n",
       "ARPU                        0\n",
       "Age on Network           1361\n",
       "Brand Identifier            0\n",
       "Circle Name                 0\n",
       "Connection Type             0\n",
       "Data Usage                  0\n",
       "Gender                   3288\n",
       "Genre                       0\n",
       "International Usage    107735\n",
       "Recharge                27715\n",
       "SMS Usage                   0\n",
       "VAS Subscription        80286\n",
       "Voice Usage                 0\n",
       "Web/App                     0\n",
       "DND                         0\n",
       "dtype: int64"
      ]
     },
<<<<<<< HEAD
<<<<<<< HEAD
     "execution_count": 21,
=======
     "execution_count": 10,
>>>>>>> e5ca16c32e7441419779f187033ab63b47ec6863
=======
     "execution_count": 8,
>>>>>>> 595f3dde4170d7f1991df48737a1e281cf186d0c
     "metadata": {},
     "output_type": "execute_result"
    }
   ],
   "source": [
    "train_df.isnull().sum()"
   ]
  },
  {
   "cell_type": "code",
<<<<<<< HEAD
<<<<<<< HEAD
   "execution_count": 22,
=======
   "execution_count": 11,
>>>>>>> e5ca16c32e7441419779f187033ab63b47ec6863
=======
   "execution_count": 9,
>>>>>>> 595f3dde4170d7f1991df48737a1e281cf186d0c
   "metadata": {},
   "outputs": [
    {
     "data": {
      "text/plain": [
       "Age                     1175\n",
       "ARPU                       0\n",
       "Age on Network           585\n",
       "Brand Identifier           0\n",
       "Circle Name                0\n",
       "Connection Type            0\n",
       "Data Usage                 0\n",
       "Gender                  1421\n",
       "Genre                      0\n",
       "International Usage    46220\n",
       "Recharge               11743\n",
       "SMS Usage                  0\n",
       "VAS Subscription       34404\n",
       "Voice Usage                0\n",
       "Web/App                    0\n",
       "DND                        0\n",
       "dtype: int64"
      ]
     },
<<<<<<< HEAD
<<<<<<< HEAD
     "execution_count": 22,
=======
     "execution_count": 11,
>>>>>>> e5ca16c32e7441419779f187033ab63b47ec6863
=======
     "execution_count": 9,
>>>>>>> 595f3dde4170d7f1991df48737a1e281cf186d0c
     "metadata": {},
     "output_type": "execute_result"
    }
   ],
   "source": [
    "test_df.isnull().sum()"
   ]
  },
  {
   "cell_type": "markdown",
   "metadata": {},
   "source": [
    "### International Usage & VAS Subscription"
   ]
  },
  {
   "cell_type": "code",
<<<<<<< HEAD
<<<<<<< HEAD
   "execution_count": 23,
=======
   "execution_count": 12,
>>>>>>> e5ca16c32e7441419779f187033ab63b47ec6863
=======
   "execution_count": 10,
>>>>>>> 595f3dde4170d7f1991df48737a1e281cf186d0c
   "metadata": {},
   "outputs": [],
   "source": [
    "train_df['International Usage'].fillna('No', inplace=True)\n",
    "test_df['International Usage'].fillna('No', inplace=True)"
   ]
  },
  {
   "cell_type": "code",
<<<<<<< HEAD
<<<<<<< HEAD
   "execution_count": 24,
=======
   "execution_count": 13,
>>>>>>> e5ca16c32e7441419779f187033ab63b47ec6863
=======
   "execution_count": 11,
>>>>>>> 595f3dde4170d7f1991df48737a1e281cf186d0c
   "metadata": {},
   "outputs": [],
   "source": [
    "train_df['VAS Subscription'].fillna('None', inplace=True)\n",
    "test_df['VAS Subscription'].fillna('None', inplace=True)"
   ]
  },
  {
   "cell_type": "markdown",
   "metadata": {},
   "source": [
    "# Dropna"
   ]
  },
  {
   "cell_type": "code",
<<<<<<< HEAD
<<<<<<< HEAD
   "execution_count": 25,
=======
   "execution_count": 14,
>>>>>>> e5ca16c32e7441419779f187033ab63b47ec6863
=======
   "execution_count": 12,
>>>>>>> 595f3dde4170d7f1991df48737a1e281cf186d0c
   "metadata": {},
   "outputs": [
    {
     "data": {
      "text/plain": [
       "(118282, 16)"
      ]
     },
<<<<<<< HEAD
<<<<<<< HEAD
     "execution_count": 25,
=======
     "execution_count": 14,
>>>>>>> e5ca16c32e7441419779f187033ab63b47ec6863
=======
     "execution_count": 12,
>>>>>>> 595f3dde4170d7f1991df48737a1e281cf186d0c
     "metadata": {},
     "output_type": "execute_result"
    }
   ],
   "source": [
    "nan_train_df = train_df.dropna()\n",
    "nan_test_df = test_df.dropna()\n",
    "nan_df = nan_train_df.append(nan_test_df, ignore_index=True)\n",
    "nan_df.shape"
   ]
  },
  {
   "cell_type": "markdown",
   "metadata": {},
   "source": [
    "# Label Encoding"
   ]
  },
  {
   "cell_type": "code",
<<<<<<< HEAD
<<<<<<< HEAD
   "execution_count": 26,
=======
   "execution_count": 15,
>>>>>>> e5ca16c32e7441419779f187033ab63b47ec6863
=======
   "execution_count": 13,
>>>>>>> 595f3dde4170d7f1991df48737a1e281cf186d0c
   "metadata": {},
   "outputs": [],
   "source": [
    "train_df.fillna('NaN', inplace=True)"
   ]
  },
  {
   "cell_type": "code",
<<<<<<< HEAD
<<<<<<< HEAD
   "execution_count": 27,
=======
   "execution_count": 16,
>>>>>>> e5ca16c32e7441419779f187033ab63b47ec6863
=======
   "execution_count": 14,
>>>>>>> 595f3dde4170d7f1991df48737a1e281cf186d0c
   "metadata": {},
   "outputs": [],
   "source": [
    "le = LabelEncoder()"
   ]
  },
  {
   "cell_type": "markdown",
   "metadata": {},
   "source": [
    "### 01 - Age"
   ]
  },
  {
   "cell_type": "code",
<<<<<<< HEAD
<<<<<<< HEAD
   "execution_count": 28,
=======
   "execution_count": 17,
>>>>>>> e5ca16c32e7441419779f187033ab63b47ec6863
=======
   "execution_count": 15,
>>>>>>> 595f3dde4170d7f1991df48737a1e281cf186d0c
   "metadata": {},
   "outputs": [],
   "source": [
    "train_df['Age'] = le.fit_transform(train_df['Age'])"
   ]
  },
  {
   "cell_type": "code",
<<<<<<< HEAD
<<<<<<< HEAD
   "execution_count": 29,
=======
   "execution_count": 18,
>>>>>>> e5ca16c32e7441419779f187033ab63b47ec6863
=======
   "execution_count": 16,
>>>>>>> 595f3dde4170d7f1991df48737a1e281cf186d0c
   "metadata": {},
   "outputs": [],
   "source": [
    "le_age_mapping = dict(zip(le.classes_, le.transform(le.classes_)))"
   ]
  },
  {
   "cell_type": "code",
<<<<<<< HEAD
<<<<<<< HEAD
   "execution_count": 30,
=======
   "execution_count": 19,
>>>>>>> e5ca16c32e7441419779f187033ab63b47ec6863
=======
   "execution_count": 17,
>>>>>>> 595f3dde4170d7f1991df48737a1e281cf186d0c
   "metadata": {},
   "outputs": [],
   "source": [
    "train_df['Age'].replace(le_age_mapping['NaN'], -1, inplace=True)"
   ]
  },
  {
   "cell_type": "code",
<<<<<<< HEAD
<<<<<<< HEAD
   "execution_count": 31,
=======
   "execution_count": 20,
>>>>>>> e5ca16c32e7441419779f187033ab63b47ec6863
=======
   "execution_count": 18,
>>>>>>> 595f3dde4170d7f1991df48737a1e281cf186d0c
   "metadata": {},
   "outputs": [],
   "source": [
    "test_df['Age'].replace(le_age_mapping, inplace=True)"
   ]
  },
  {
   "cell_type": "markdown",
   "metadata": {},
   "source": [
    "### 02 - ARPU"
   ]
  },
  {
   "cell_type": "code",
<<<<<<< HEAD
<<<<<<< HEAD
   "execution_count": 32,
=======
   "execution_count": 21,
>>>>>>> e5ca16c32e7441419779f187033ab63b47ec6863
=======
   "execution_count": 19,
>>>>>>> 595f3dde4170d7f1991df48737a1e281cf186d0c
   "metadata": {},
   "outputs": [],
   "source": [
    "train_df['ARPU'] = le.fit_transform(train_df['ARPU'])\n",
    "le_arpu_mapping = dict(zip(le.classes_, le.transform(le.classes_)))"
   ]
  },
  {
   "cell_type": "code",
<<<<<<< HEAD
<<<<<<< HEAD
   "execution_count": 33,
=======
   "execution_count": 22,
>>>>>>> e5ca16c32e7441419779f187033ab63b47ec6863
=======
   "execution_count": 20,
>>>>>>> 595f3dde4170d7f1991df48737a1e281cf186d0c
   "metadata": {},
   "outputs": [
    {
     "data": {
      "text/plain": [
       "{'0': 0,\n",
       " '0-50': 1,\n",
       " '101-200': 2,\n",
       " '201-300': 3,\n",
       " '301-500': 4,\n",
       " '501-750': 5,\n",
       " '51-100': 6,\n",
       " '>750': 7}"
      ]
     },
<<<<<<< HEAD
<<<<<<< HEAD
     "execution_count": 33,
=======
     "execution_count": 22,
>>>>>>> e5ca16c32e7441419779f187033ab63b47ec6863
=======
     "execution_count": 20,
>>>>>>> 595f3dde4170d7f1991df48737a1e281cf186d0c
     "metadata": {},
     "output_type": "execute_result"
    }
   ],
   "source": [
    "le_arpu_mapping"
   ]
  },
  {
   "cell_type": "code",
<<<<<<< HEAD
<<<<<<< HEAD
   "execution_count": 34,
=======
   "execution_count": 23,
>>>>>>> e5ca16c32e7441419779f187033ab63b47ec6863
=======
   "execution_count": 21,
>>>>>>> 595f3dde4170d7f1991df48737a1e281cf186d0c
   "metadata": {},
   "outputs": [],
   "source": [
    "test_df['ARPU'].replace(le_arpu_mapping, inplace=True)"
   ]
  },
  {
   "cell_type": "markdown",
   "metadata": {},
   "source": [
    "### 03 - Age on Network"
   ]
  },
  {
   "cell_type": "code",
<<<<<<< HEAD
<<<<<<< HEAD
   "execution_count": 35,
=======
   "execution_count": 24,
>>>>>>> e5ca16c32e7441419779f187033ab63b47ec6863
=======
   "execution_count": 22,
>>>>>>> 595f3dde4170d7f1991df48737a1e281cf186d0c
   "metadata": {},
   "outputs": [],
   "source": [
    "train_df['Age on Network'] = le.fit_transform(train_df['Age on Network'])\n",
    "le_aon_mapping = dict(zip(le.classes_, le.transform(le.classes_)))"
   ]
  },
  {
   "cell_type": "code",
<<<<<<< HEAD
<<<<<<< HEAD
   "execution_count": 36,
=======
   "execution_count": 25,
>>>>>>> e5ca16c32e7441419779f187033ab63b47ec6863
=======
   "execution_count": 23,
>>>>>>> 595f3dde4170d7f1991df48737a1e281cf186d0c
   "metadata": {},
   "outputs": [],
   "source": [
    "train_df['Age on Network'].replace(le_aon_mapping['NaN'], -1, inplace=True)"
   ]
  },
  {
   "cell_type": "code",
<<<<<<< HEAD
<<<<<<< HEAD
   "execution_count": 37,
=======
   "execution_count": 26,
>>>>>>> e5ca16c32e7441419779f187033ab63b47ec6863
=======
   "execution_count": 24,
>>>>>>> 595f3dde4170d7f1991df48737a1e281cf186d0c
   "metadata": {},
   "outputs": [],
   "source": [
    "test_df['Age on Network'].replace(le_aon_mapping, inplace=True)"
   ]
  },
  {
   "cell_type": "markdown",
   "metadata": {},
   "source": [
    "### 04 - Brand Identifier"
   ]
  },
  {
   "cell_type": "code",
<<<<<<< HEAD
<<<<<<< HEAD
   "execution_count": 38,
=======
   "execution_count": 27,
>>>>>>> e5ca16c32e7441419779f187033ab63b47ec6863
=======
   "execution_count": 25,
>>>>>>> 595f3dde4170d7f1991df48737a1e281cf186d0c
   "metadata": {},
   "outputs": [],
   "source": [
    "train_df['Brand Identifier'] = le.fit_transform(train_df['Brand Identifier'])\n",
    "le_brand_mapping = dict(zip(le.classes_, le.transform(le.classes_)))"
   ]
  },
  {
   "cell_type": "code",
<<<<<<< HEAD
<<<<<<< HEAD
   "execution_count": 39,
=======
   "execution_count": 28,
>>>>>>> e5ca16c32e7441419779f187033ab63b47ec6863
=======
   "execution_count": 26,
>>>>>>> 595f3dde4170d7f1991df48737a1e281cf186d0c
   "metadata": {},
   "outputs": [],
   "source": [
    "test_df['Brand Identifier'].replace(le_brand_mapping, inplace=True)"
   ]
  },
  {
   "cell_type": "markdown",
   "metadata": {},
   "source": [
    "### 05 - Circle Name"
   ]
  },
  {
   "cell_type": "code",
<<<<<<< HEAD
<<<<<<< HEAD
   "execution_count": 40,
=======
   "execution_count": 29,
>>>>>>> e5ca16c32e7441419779f187033ab63b47ec6863
=======
   "execution_count": 27,
>>>>>>> 595f3dde4170d7f1991df48737a1e281cf186d0c
   "metadata": {},
   "outputs": [],
   "source": [
    "train_df['Circle Name'] = le.fit_transform(train_df['Circle Name'])\n",
    "le_circle_mapping = dict(zip(le.classes_, le.transform(le.classes_)))"
   ]
  },
  {
   "cell_type": "code",
<<<<<<< HEAD
<<<<<<< HEAD
   "execution_count": 41,
=======
   "execution_count": 30,
>>>>>>> e5ca16c32e7441419779f187033ab63b47ec6863
=======
   "execution_count": 28,
>>>>>>> 595f3dde4170d7f1991df48737a1e281cf186d0c
   "metadata": {},
   "outputs": [],
   "source": [
    "test_df['Circle Name'].replace(le_circle_mapping, inplace=True)"
   ]
  },
  {
   "cell_type": "markdown",
   "metadata": {},
   "source": [
    "### 06 - Connection Type"
   ]
  },
  {
   "cell_type": "code",
<<<<<<< HEAD
<<<<<<< HEAD
   "execution_count": 42,
=======
   "execution_count": 31,
>>>>>>> e5ca16c32e7441419779f187033ab63b47ec6863
=======
   "execution_count": 29,
>>>>>>> 595f3dde4170d7f1991df48737a1e281cf186d0c
   "metadata": {},
   "outputs": [],
   "source": [
    "train_df['Connection Type'] = le.fit_transform(train_df['Connection Type'])\n",
    "le_connection_mapping = dict(zip(le.classes_, le.transform(le.classes_)))"
   ]
  },
  {
   "cell_type": "code",
<<<<<<< HEAD
<<<<<<< HEAD
   "execution_count": 43,
=======
   "execution_count": 32,
>>>>>>> e5ca16c32e7441419779f187033ab63b47ec6863
=======
   "execution_count": 30,
>>>>>>> 595f3dde4170d7f1991df48737a1e281cf186d0c
   "metadata": {},
   "outputs": [],
   "source": [
    "test_df['Connection Type'].replace(le_connection_mapping, inplace=True)"
   ]
  },
  {
   "cell_type": "markdown",
   "metadata": {},
   "source": [
    "### 07 - Data Usage"
   ]
  },
  {
   "cell_type": "code",
<<<<<<< HEAD
<<<<<<< HEAD
   "execution_count": 44,
=======
   "execution_count": 33,
>>>>>>> e5ca16c32e7441419779f187033ab63b47ec6863
=======
   "execution_count": 31,
>>>>>>> 595f3dde4170d7f1991df48737a1e281cf186d0c
   "metadata": {},
   "outputs": [],
   "source": [
    "train_df['Data Usage'] = le.fit_transform(train_df['Data Usage'])\n",
    "le_data_mapping = dict(zip(le.classes_, le.transform(le.classes_)))"
   ]
  },
  {
   "cell_type": "code",
<<<<<<< HEAD
<<<<<<< HEAD
   "execution_count": 45,
=======
   "execution_count": 34,
>>>>>>> e5ca16c32e7441419779f187033ab63b47ec6863
=======
   "execution_count": 32,
>>>>>>> 595f3dde4170d7f1991df48737a1e281cf186d0c
   "metadata": {},
   "outputs": [],
   "source": [
    "test_df['Data Usage'].replace(le_data_mapping, inplace=True)"
   ]
  },
  {
   "cell_type": "markdown",
   "metadata": {},
   "source": [
    "### 08 - Gender"
   ]
  },
  {
   "cell_type": "code",
<<<<<<< HEAD
<<<<<<< HEAD
   "execution_count": 46,
=======
   "execution_count": 35,
>>>>>>> e5ca16c32e7441419779f187033ab63b47ec6863
=======
   "execution_count": 33,
>>>>>>> 595f3dde4170d7f1991df48737a1e281cf186d0c
   "metadata": {},
   "outputs": [],
   "source": [
    "train_df['Gender'] = le.fit_transform(train_df['Gender'])\n",
    "le_gender_mapping = dict(zip(le.classes_, le.transform(le.classes_)))"
   ]
  },
  {
   "cell_type": "code",
<<<<<<< HEAD
<<<<<<< HEAD
   "execution_count": 47,
=======
   "execution_count": 36,
>>>>>>> e5ca16c32e7441419779f187033ab63b47ec6863
=======
   "execution_count": 34,
>>>>>>> 595f3dde4170d7f1991df48737a1e281cf186d0c
   "metadata": {},
   "outputs": [],
   "source": [
    "train_df['Gender'].replace(le_gender_mapping['NaN'], -1, inplace=True)"
   ]
  },
  {
   "cell_type": "code",
<<<<<<< HEAD
<<<<<<< HEAD
   "execution_count": 48,
=======
   "execution_count": 37,
>>>>>>> e5ca16c32e7441419779f187033ab63b47ec6863
=======
   "execution_count": 35,
>>>>>>> 595f3dde4170d7f1991df48737a1e281cf186d0c
   "metadata": {},
   "outputs": [],
   "source": [
    "test_df['Gender'].replace(le_gender_mapping, inplace=True)"
   ]
  },
  {
   "cell_type": "markdown",
   "metadata": {},
   "source": [
    "### 09 - Genre"
   ]
  },
  {
   "cell_type": "code",
<<<<<<< HEAD
<<<<<<< HEAD
   "execution_count": 49,
=======
   "execution_count": 38,
>>>>>>> e5ca16c32e7441419779f187033ab63b47ec6863
=======
   "execution_count": 36,
>>>>>>> 595f3dde4170d7f1991df48737a1e281cf186d0c
   "metadata": {},
   "outputs": [],
   "source": [
    "train_df['Genre'] = le.fit_transform(train_df['Genre'])\n",
    "le_genre_mapping = dict(zip(le.classes_, le.transform(le.classes_)))"
   ]
  },
  {
   "cell_type": "code",
<<<<<<< HEAD
<<<<<<< HEAD
   "execution_count": 50,
=======
   "execution_count": 39,
>>>>>>> e5ca16c32e7441419779f187033ab63b47ec6863
=======
   "execution_count": 37,
>>>>>>> 595f3dde4170d7f1991df48737a1e281cf186d0c
   "metadata": {},
   "outputs": [],
   "source": [
    "test_df['Genre'].replace(le_genre_mapping, inplace=True)"
   ]
  },
  {
   "cell_type": "markdown",
   "metadata": {},
   "source": [
    "### 10 - International Usage"
   ]
  },
  {
   "cell_type": "code",
<<<<<<< HEAD
<<<<<<< HEAD
   "execution_count": 51,
=======
   "execution_count": 40,
>>>>>>> e5ca16c32e7441419779f187033ab63b47ec6863
=======
   "execution_count": 38,
>>>>>>> 595f3dde4170d7f1991df48737a1e281cf186d0c
   "metadata": {},
   "outputs": [],
   "source": [
    "train_df['International Usage'] = le.fit_transform(train_df['International Usage'])\n",
    "le_international_mapping = dict(zip(le.classes_, le.transform(le.classes_)))"
   ]
  },
  {
   "cell_type": "code",
<<<<<<< HEAD
<<<<<<< HEAD
   "execution_count": 52,
=======
   "execution_count": 41,
>>>>>>> e5ca16c32e7441419779f187033ab63b47ec6863
=======
   "execution_count": 39,
>>>>>>> 595f3dde4170d7f1991df48737a1e281cf186d0c
   "metadata": {},
   "outputs": [],
   "source": [
    "test_df['International Usage'].replace(le_international_mapping, inplace=True)"
   ]
  },
  {
   "cell_type": "markdown",
   "metadata": {},
   "source": [
    "### 11 - Recharge"
   ]
  },
  {
   "cell_type": "code",
<<<<<<< HEAD
<<<<<<< HEAD
   "execution_count": 53,
=======
   "execution_count": 42,
>>>>>>> e5ca16c32e7441419779f187033ab63b47ec6863
=======
   "execution_count": 40,
>>>>>>> 595f3dde4170d7f1991df48737a1e281cf186d0c
   "metadata": {},
   "outputs": [],
   "source": [
    "train_df['Recharge'] = le.fit_transform(train_df['Recharge'])\n",
    "le_recharge_mapping = dict(zip(le.classes_, le.transform(le.classes_)))"
   ]
  },
  {
   "cell_type": "code",
<<<<<<< HEAD
<<<<<<< HEAD
   "execution_count": 54,
=======
   "execution_count": 43,
>>>>>>> e5ca16c32e7441419779f187033ab63b47ec6863
=======
   "execution_count": 41,
>>>>>>> 595f3dde4170d7f1991df48737a1e281cf186d0c
   "metadata": {},
   "outputs": [],
   "source": [
    "train_df['Recharge'].replace(le_recharge_mapping['NaN'], -1, inplace=True)"
   ]
  },
  {
   "cell_type": "code",
<<<<<<< HEAD
<<<<<<< HEAD
   "execution_count": 55,
=======
   "execution_count": 44,
>>>>>>> e5ca16c32e7441419779f187033ab63b47ec6863
=======
   "execution_count": 42,
>>>>>>> 595f3dde4170d7f1991df48737a1e281cf186d0c
   "metadata": {},
   "outputs": [],
   "source": [
    "test_df['Recharge'].replace(le_recharge_mapping, inplace=True)"
   ]
  },
  {
   "cell_type": "markdown",
   "metadata": {},
   "source": [
    "### 12 - SMS Usage"
   ]
  },
  {
   "cell_type": "code",
<<<<<<< HEAD
<<<<<<< HEAD
   "execution_count": 56,
=======
   "execution_count": 45,
>>>>>>> e5ca16c32e7441419779f187033ab63b47ec6863
=======
   "execution_count": 43,
>>>>>>> 595f3dde4170d7f1991df48737a1e281cf186d0c
   "metadata": {},
   "outputs": [],
   "source": [
    "train_df['SMS Usage'] = le.fit_transform(train_df['SMS Usage'])\n",
    "le_sms_mapping = dict(zip(le.classes_, le.transform(le.classes_)))"
   ]
  },
  {
   "cell_type": "code",
<<<<<<< HEAD
<<<<<<< HEAD
   "execution_count": 57,
=======
   "execution_count": 46,
>>>>>>> e5ca16c32e7441419779f187033ab63b47ec6863
=======
   "execution_count": 44,
>>>>>>> 595f3dde4170d7f1991df48737a1e281cf186d0c
   "metadata": {},
   "outputs": [],
   "source": [
    "test_df['SMS Usage'].replace(le_sms_mapping, inplace=True)"
   ]
  },
  {
   "cell_type": "markdown",
   "metadata": {},
   "source": [
    "### 13 - VAS Subscription"
   ]
  },
  {
   "cell_type": "code",
<<<<<<< HEAD
<<<<<<< HEAD
   "execution_count": 58,
=======
   "execution_count": 47,
>>>>>>> e5ca16c32e7441419779f187033ab63b47ec6863
=======
   "execution_count": 45,
>>>>>>> 595f3dde4170d7f1991df48737a1e281cf186d0c
   "metadata": {},
   "outputs": [],
   "source": [
    "train_df['VAS Subscription'] = le.fit_transform(train_df['VAS Subscription'])\n",
    "le_vas_mapping = dict(zip(le.classes_, le.transform(le.classes_)))"
   ]
  },
  {
   "cell_type": "code",
<<<<<<< HEAD
<<<<<<< HEAD
   "execution_count": 59,
=======
   "execution_count": 48,
>>>>>>> e5ca16c32e7441419779f187033ab63b47ec6863
=======
   "execution_count": 46,
>>>>>>> 595f3dde4170d7f1991df48737a1e281cf186d0c
   "metadata": {},
   "outputs": [],
   "source": [
    "test_df['VAS Subscription'].replace(le_vas_mapping, inplace=True)"
   ]
  },
  {
   "cell_type": "markdown",
   "metadata": {},
   "source": [
    "### 14 - Voice Usage"
   ]
  },
  {
   "cell_type": "code",
<<<<<<< HEAD
<<<<<<< HEAD
   "execution_count": 60,
=======
   "execution_count": 49,
>>>>>>> e5ca16c32e7441419779f187033ab63b47ec6863
=======
   "execution_count": 47,
>>>>>>> 595f3dde4170d7f1991df48737a1e281cf186d0c
   "metadata": {},
   "outputs": [],
   "source": [
    "train_df['Voice Usage'] = le.fit_transform(train_df['Voice Usage'])\n",
    "le_voice_mapping = dict(zip(le.classes_, le.transform(le.classes_)))"
   ]
  },
  {
   "cell_type": "code",
<<<<<<< HEAD
<<<<<<< HEAD
   "execution_count": 61,
=======
   "execution_count": 50,
>>>>>>> e5ca16c32e7441419779f187033ab63b47ec6863
=======
   "execution_count": 48,
>>>>>>> 595f3dde4170d7f1991df48737a1e281cf186d0c
   "metadata": {},
   "outputs": [],
   "source": [
    "test_df['Voice Usage'].replace(le_voice_mapping, inplace=True)"
   ]
  },
  {
   "cell_type": "markdown",
   "metadata": {},
   "source": [
    "### 15 - Web/App"
   ]
  },
  {
   "cell_type": "code",
<<<<<<< HEAD
<<<<<<< HEAD
   "execution_count": 62,
=======
   "execution_count": 51,
>>>>>>> e5ca16c32e7441419779f187033ab63b47ec6863
=======
   "execution_count": 49,
>>>>>>> 595f3dde4170d7f1991df48737a1e281cf186d0c
   "metadata": {},
   "outputs": [],
   "source": [
    "train_df['Web/App'] = le.fit_transform(train_df['Web/App'])\n",
    "le_webapp_mapping = dict(zip(le.classes_, le.transform(le.classes_)))"
   ]
  },
  {
   "cell_type": "code",
<<<<<<< HEAD
<<<<<<< HEAD
   "execution_count": 63,
=======
   "execution_count": 52,
>>>>>>> e5ca16c32e7441419779f187033ab63b47ec6863
=======
   "execution_count": 50,
>>>>>>> 595f3dde4170d7f1991df48737a1e281cf186d0c
   "metadata": {},
   "outputs": [],
   "source": [
    "test_df['Web/App'].replace(le_webapp_mapping, inplace=True)"
   ]
  },
  {
   "cell_type": "markdown",
   "metadata": {},
   "source": [
    "### 16 - DND"
   ]
  },
  {
   "cell_type": "code",
<<<<<<< HEAD
<<<<<<< HEAD
   "execution_count": 64,
=======
   "execution_count": 53,
>>>>>>> e5ca16c32e7441419779f187033ab63b47ec6863
=======
   "execution_count": 51,
>>>>>>> 595f3dde4170d7f1991df48737a1e281cf186d0c
   "metadata": {},
   "outputs": [],
   "source": [
    "train_df['DND'] = le.fit_transform(train_df['DND'])\n",
    "le_dnd_mapping = dict(zip(le.classes_, le.transform(le.classes_)))"
   ]
  },
  {
   "cell_type": "code",
<<<<<<< HEAD
<<<<<<< HEAD
   "execution_count": 65,
=======
   "execution_count": 54,
>>>>>>> e5ca16c32e7441419779f187033ab63b47ec6863
=======
   "execution_count": 52,
>>>>>>> 595f3dde4170d7f1991df48737a1e281cf186d0c
   "metadata": {},
   "outputs": [],
   "source": [
    "test_df['DND'].replace(le_dnd_mapping, inplace=True)"
   ]
  },
  {
   "cell_type": "markdown",
   "metadata": {},
   "source": [
    "### Test Data"
   ]
  },
  {
   "cell_type": "code",
<<<<<<< HEAD
<<<<<<< HEAD
   "execution_count": 66,
=======
   "execution_count": 55,
>>>>>>> e5ca16c32e7441419779f187033ab63b47ec6863
=======
   "execution_count": 53,
>>>>>>> 595f3dde4170d7f1991df48737a1e281cf186d0c
   "metadata": {},
   "outputs": [],
   "source": [
    "test_df.replace(np.nan, -1, inplace=True)"
   ]
  },
  {
   "cell_type": "code",
<<<<<<< HEAD
<<<<<<< HEAD
   "execution_count": 67,
=======
   "execution_count": 56,
>>>>>>> e5ca16c32e7441419779f187033ab63b47ec6863
=======
   "execution_count": 54,
>>>>>>> 595f3dde4170d7f1991df48737a1e281cf186d0c
   "metadata": {},
   "outputs": [],
   "source": [
    "test_df['Recharge'] = test_df['Recharge'].astype('int')\n",
    "test_df['Age'] = test_df['Age'].astype('int')\n",
    "test_df['Age on Network'] = test_df['Age on Network'].astype('int')\n",
    "test_df['Gender'] = test_df['Gender'].astype('int')"
   ]
  },
  {
   "cell_type": "code",
<<<<<<< HEAD
<<<<<<< HEAD
   "execution_count": 68,
=======
   "execution_count": 57,
>>>>>>> e5ca16c32e7441419779f187033ab63b47ec6863
=======
   "execution_count": 55,
>>>>>>> 595f3dde4170d7f1991df48737a1e281cf186d0c
   "metadata": {},
   "outputs": [
    {
     "data": {
      "text/plain": [
       "Age                     int32\n",
       "ARPU                    int64\n",
       "Age on Network          int32\n",
       "Brand Identifier        int64\n",
       "Circle Name             int64\n",
       "Connection Type         int64\n",
       "Data Usage             object\n",
       "Gender                  int32\n",
       "Genre                   int64\n",
       "International Usage     int64\n",
       "Recharge                int32\n",
       "SMS Usage               int64\n",
       "VAS Subscription       object\n",
       "Voice Usage             int64\n",
       "Web/App                 int64\n",
       "DND                     int64\n",
       "dtype: object"
      ]
     },
<<<<<<< HEAD
<<<<<<< HEAD
     "execution_count": 68,
=======
     "execution_count": 57,
>>>>>>> e5ca16c32e7441419779f187033ab63b47ec6863
=======
     "execution_count": 55,
>>>>>>> 595f3dde4170d7f1991df48737a1e281cf186d0c
     "metadata": {},
     "output_type": "execute_result"
    }
   ],
   "source": [
    "test_df.dtypes"
   ]
  },
  {
   "cell_type": "code",
<<<<<<< HEAD
<<<<<<< HEAD
   "execution_count": 69,
=======
   "execution_count": 58,
>>>>>>> e5ca16c32e7441419779f187033ab63b47ec6863
=======
   "execution_count": 56,
>>>>>>> 595f3dde4170d7f1991df48737a1e281cf186d0c
   "metadata": {},
   "outputs": [],
   "source": [
    "test_df.drop([142, 427, 18066, 41997, 4725, 35398, 10893, 38518, 17787, 22955, 47284], inplace=True)"
   ]
  },
  {
   "cell_type": "code",
<<<<<<< HEAD
<<<<<<< HEAD
   "execution_count": 70,
=======
   "execution_count": 59,
>>>>>>> e5ca16c32e7441419779f187033ab63b47ec6863
=======
   "execution_count": 57,
>>>>>>> 595f3dde4170d7f1991df48737a1e281cf186d0c
   "metadata": {},
   "outputs": [],
   "source": [
    "test_df['Data Usage'] = test_df['Data Usage'].astype('int')\n",
    "test_df['VAS Subscription'] = test_df['VAS Subscription'].astype('int')"
   ]
  },
  {
   "cell_type": "markdown",
   "metadata": {},
   "source": [
    "# To The CSV"
   ]
  },
  {
   "cell_type": "code",
<<<<<<< HEAD
<<<<<<< HEAD
   "execution_count": 72,
   "metadata": {},
   "outputs": [],
   "source": [
    "train_df.to_csv('E:\\VIL Confidential Information Dataset\\Train_cleaned.csv', index=False)"
=======
   "execution_count": 60,
=======
   "execution_count": 58,
>>>>>>> 595f3dde4170d7f1991df48737a1e281cf186d0c
   "metadata": {},
   "outputs": [],
   "source": [
    "train_df.to_csv('E:\\VIL Codefest\\secret\\VIL Confidential Information Dataset\\Train_cleaned.csv', index=False)"
>>>>>>> e5ca16c32e7441419779f187033ab63b47ec6863
   ]
  },
  {
   "cell_type": "code",
<<<<<<< HEAD
<<<<<<< HEAD
   "execution_count": 73,
   "metadata": {},
   "outputs": [],
   "source": [
    "test_df.to_csv('E:\\VIL Confidential Information Dataset\\Test_cleaned.csv', index=False)"
=======
   "execution_count": 61,
=======
   "execution_count": 59,
>>>>>>> 595f3dde4170d7f1991df48737a1e281cf186d0c
   "metadata": {},
   "outputs": [],
   "source": [
    "test_df.to_csv('E:\\VIL Codefest\\secret\\VIL Confidential Information Dataset\\Test_cleaned.csv', index=False)"
>>>>>>> e5ca16c32e7441419779f187033ab63b47ec6863
   ]
  },
  {
   "cell_type": "code",
   "execution_count": null,
   "metadata": {},
   "outputs": [],
   "source": []
  }
 ],
 "metadata": {
  "kernelspec": {
   "display_name": "Python 3",
   "language": "python",
   "name": "python3"
  },
  "language_info": {
   "codemirror_mode": {
    "name": "ipython",
    "version": 3
   },
   "file_extension": ".py",
   "mimetype": "text/x-python",
   "name": "python",
   "nbconvert_exporter": "python",
   "pygments_lexer": "ipython3",
   "version": "3.7.6"
  }
 },
 "nbformat": 4,
 "nbformat_minor": 2
}
