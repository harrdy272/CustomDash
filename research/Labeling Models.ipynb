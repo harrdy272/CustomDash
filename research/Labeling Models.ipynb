{
 "cells": [
  {
   "cell_type": "code",
   "execution_count": 1,
   "metadata": {},
   "outputs": [],
   "source": [
    "import numpy as np\n",
    "import pandas as pd"
   ]
  },
  {
   "cell_type": "code",
<<<<<<< HEAD
   "execution_count": 4,
=======
   "execution_count": 2,
>>>>>>> 595f3dde4170d7f1991df48737a1e281cf186d0c
   "metadata": {},
   "outputs": [],
   "source": [
    "train_df = pd.read_csv('E:\\VIL Confidential Information Dataset\\Train_cleaned.csv')\n",
    "test_df = pd.read_csv('E:\\VIL Confidential Information Dataset\\Test_cleaned.csv')"
   ]
  },
  {
   "cell_type": "code",
<<<<<<< HEAD
   "execution_count": 5,
=======
   "execution_count": 3,
>>>>>>> 595f3dde4170d7f1991df48737a1e281cf186d0c
   "metadata": {},
   "outputs": [
    {
     "data": {
      "text/plain": [
       "Age                    int64\n",
       "ARPU                   int64\n",
       "Age on Network         int64\n",
       "Brand Identifier       int64\n",
       "Circle Name            int64\n",
       "Connection Type        int64\n",
       "Data Usage             int64\n",
       "Gender                 int64\n",
       "Genre                  int64\n",
       "International Usage    int64\n",
       "Recharge               int64\n",
       "SMS Usage              int64\n",
       "VAS Subscription       int64\n",
       "Voice Usage            int64\n",
       "Web/App                int64\n",
       "DND                    int64\n",
       "dtype: object"
      ]
     },
<<<<<<< HEAD
     "execution_count": 5,
=======
     "execution_count": 3,
>>>>>>> 595f3dde4170d7f1991df48737a1e281cf186d0c
     "metadata": {},
     "output_type": "execute_result"
    }
   ],
   "source": [
    "test_df.dtypes"
   ]
  },
  {
   "cell_type": "markdown",
   "metadata": {},
   "source": [
    "# KNN Imputer"
   ]
  },
  {
   "cell_type": "code",
<<<<<<< HEAD
   "execution_count": 6,
=======
   "execution_count": 4,
>>>>>>> 595f3dde4170d7f1991df48737a1e281cf186d0c
   "metadata": {},
   "outputs": [
    {
     "data": {
      "text/plain": [
       "(112589, 16)"
      ]
     },
<<<<<<< HEAD
     "execution_count": 6,
=======
     "execution_count": 4,
>>>>>>> 595f3dde4170d7f1991df48737a1e281cf186d0c
     "metadata": {},
     "output_type": "execute_result"
    }
   ],
   "source": [
    "train_df.shape"
   ]
  },
  {
   "cell_type": "code",
<<<<<<< HEAD
   "execution_count": 7,
=======
   "execution_count": 5,
>>>>>>> 595f3dde4170d7f1991df48737a1e281cf186d0c
   "metadata": {},
   "outputs": [],
   "source": [
    "from sklearn.impute import KNNImputer"
   ]
  },
  {
   "cell_type": "markdown",
   "metadata": {},
   "source": [
    "### KNNImputer for train set"
   ]
  },
  {
   "cell_type": "code",
<<<<<<< HEAD
   "execution_count": 8,
=======
   "execution_count": 6,
>>>>>>> 595f3dde4170d7f1991df48737a1e281cf186d0c
   "metadata": {},
   "outputs": [
    {
     "data": {
      "text/html": [
       "<div>\n",
       "<style scoped>\n",
       "    .dataframe tbody tr th:only-of-type {\n",
       "        vertical-align: middle;\n",
       "    }\n",
       "\n",
       "    .dataframe tbody tr th {\n",
       "        vertical-align: top;\n",
       "    }\n",
       "\n",
       "    .dataframe thead th {\n",
       "        text-align: right;\n",
       "    }\n",
       "</style>\n",
       "<table border=\"1\" class=\"dataframe\">\n",
       "  <thead>\n",
       "    <tr style=\"text-align: right;\">\n",
       "      <th></th>\n",
       "      <th>Age</th>\n",
       "      <th>ARPU</th>\n",
       "      <th>Age on Network</th>\n",
       "      <th>Brand Identifier</th>\n",
       "      <th>Circle Name</th>\n",
       "      <th>Connection Type</th>\n",
       "      <th>Data Usage</th>\n",
       "      <th>Gender</th>\n",
       "      <th>Genre</th>\n",
       "      <th>International Usage</th>\n",
       "      <th>Recharge</th>\n",
       "      <th>SMS Usage</th>\n",
       "      <th>VAS Subscription</th>\n",
       "      <th>Voice Usage</th>\n",
       "      <th>Web/App</th>\n",
       "      <th>DND</th>\n",
       "    </tr>\n",
       "  </thead>\n",
       "  <tbody>\n",
       "    <tr>\n",
       "      <th>0</th>\n",
       "      <td>1.0</td>\n",
       "      <td>1.0</td>\n",
       "      <td>2.0</td>\n",
       "      <td>1.0</td>\n",
       "      <td>2.0</td>\n",
       "      <td>1.0</td>\n",
       "      <td>2.0</td>\n",
       "      <td>1.0</td>\n",
       "      <td>2.0</td>\n",
       "      <td>0.0</td>\n",
       "      <td>6.0</td>\n",
       "      <td>6.0</td>\n",
       "      <td>43.0</td>\n",
       "      <td>5.0</td>\n",
       "      <td>1.0</td>\n",
       "      <td>0.0</td>\n",
       "    </tr>\n",
       "    <tr>\n",
       "      <th>1</th>\n",
       "      <td>4.0</td>\n",
       "      <td>1.0</td>\n",
       "      <td>6.0</td>\n",
       "      <td>1.0</td>\n",
       "      <td>2.0</td>\n",
       "      <td>1.0</td>\n",
       "      <td>6.0</td>\n",
       "      <td>1.0</td>\n",
       "      <td>3.0</td>\n",
       "      <td>0.0</td>\n",
       "      <td>3.0</td>\n",
       "      <td>1.0</td>\n",
       "      <td>87.0</td>\n",
       "      <td>7.0</td>\n",
       "      <td>1.0</td>\n",
       "      <td>0.0</td>\n",
       "    </tr>\n",
       "    <tr>\n",
       "      <th>2</th>\n",
       "      <td>2.0</td>\n",
       "      <td>2.0</td>\n",
       "      <td>7.0</td>\n",
       "      <td>0.0</td>\n",
       "      <td>0.0</td>\n",
       "      <td>1.0</td>\n",
       "      <td>2.0</td>\n",
       "      <td>1.0</td>\n",
       "      <td>3.0</td>\n",
       "      <td>0.0</td>\n",
       "      <td>2.0</td>\n",
       "      <td>1.0</td>\n",
       "      <td>87.0</td>\n",
       "      <td>8.0</td>\n",
       "      <td>1.0</td>\n",
       "      <td>1.0</td>\n",
       "    </tr>\n",
       "    <tr>\n",
       "      <th>3</th>\n",
       "      <td>9.0</td>\n",
       "      <td>7.0</td>\n",
       "      <td>1.0</td>\n",
       "      <td>1.0</td>\n",
       "      <td>3.0</td>\n",
       "      <td>1.0</td>\n",
       "      <td>7.0</td>\n",
       "      <td>0.0</td>\n",
       "      <td>2.0</td>\n",
       "      <td>1.0</td>\n",
       "      <td>4.0</td>\n",
       "      <td>1.0</td>\n",
       "      <td>87.0</td>\n",
       "      <td>5.0</td>\n",
       "      <td>1.0</td>\n",
       "      <td>1.0</td>\n",
       "    </tr>\n",
       "    <tr>\n",
       "      <th>4</th>\n",
       "      <td>9.0</td>\n",
       "      <td>4.0</td>\n",
       "      <td>3.0</td>\n",
       "      <td>1.0</td>\n",
       "      <td>2.0</td>\n",
       "      <td>0.0</td>\n",
       "      <td>2.0</td>\n",
       "      <td>3.0</td>\n",
       "      <td>3.0</td>\n",
       "      <td>0.0</td>\n",
       "      <td>3.0</td>\n",
       "      <td>3.0</td>\n",
       "      <td>43.0</td>\n",
       "      <td>5.0</td>\n",
       "      <td>1.0</td>\n",
       "      <td>0.0</td>\n",
       "    </tr>\n",
       "  </tbody>\n",
       "</table>\n",
       "</div>"
      ],
      "text/plain": [
       "   Age  ARPU  Age on Network  Brand Identifier  Circle Name  Connection Type  \\\n",
       "0  1.0   1.0             2.0               1.0          2.0              1.0   \n",
       "1  4.0   1.0             6.0               1.0          2.0              1.0   \n",
       "2  2.0   2.0             7.0               0.0          0.0              1.0   \n",
       "3  9.0   7.0             1.0               1.0          3.0              1.0   \n",
       "4  9.0   4.0             3.0               1.0          2.0              0.0   \n",
       "\n",
       "   Data Usage  Gender  Genre  International Usage  Recharge  SMS Usage  \\\n",
       "0         2.0     1.0    2.0                  0.0       6.0        6.0   \n",
       "1         6.0     1.0    3.0                  0.0       3.0        1.0   \n",
       "2         2.0     1.0    3.0                  0.0       2.0        1.0   \n",
       "3         7.0     0.0    2.0                  1.0       4.0        1.0   \n",
       "4         2.0     3.0    3.0                  0.0       3.0        3.0   \n",
       "\n",
       "   VAS Subscription  Voice Usage  Web/App  DND  \n",
       "0              43.0          5.0      1.0  0.0  \n",
       "1              87.0          7.0      1.0  0.0  \n",
       "2              87.0          8.0      1.0  1.0  \n",
       "3              87.0          5.0      1.0  1.0  \n",
       "4              43.0          5.0      1.0  0.0  "
      ]
     },
<<<<<<< HEAD
     "execution_count": 8,
=======
     "execution_count": 6,
>>>>>>> 595f3dde4170d7f1991df48737a1e281cf186d0c
     "metadata": {},
     "output_type": "execute_result"
    }
   ],
   "source": [
    "imputer = KNNImputer(missing_values=-1, n_neighbors=5)\n",
    "\n",
    "m, n = 0, train_df.shape[0]//20\n",
    "for i in range(20):\n",
    "    k = train_df.shape[0]//20\n",
    "    train_df[m:n] = imputer.fit_transform(train_df[m:n])\n",
    "    train_df[m:n] = pd.DataFrame(train_df[m:n])\n",
    "    m, n = m+k, n+k\n",
    "train_df.head()"
   ]
  },
  {
   "cell_type": "markdown",
   "metadata": {},
   "source": [
    "### KNNImputer for test set"
   ]
  },
  {
   "cell_type": "code",
<<<<<<< HEAD
   "execution_count": 9,
=======
   "execution_count": 7,
>>>>>>> 595f3dde4170d7f1991df48737a1e281cf186d0c
   "metadata": {},
   "outputs": [
    {
     "data": {
      "text/html": [
       "<div>\n",
       "<style scoped>\n",
       "    .dataframe tbody tr th:only-of-type {\n",
       "        vertical-align: middle;\n",
       "    }\n",
       "\n",
       "    .dataframe tbody tr th {\n",
       "        vertical-align: top;\n",
       "    }\n",
       "\n",
       "    .dataframe thead th {\n",
       "        text-align: right;\n",
       "    }\n",
       "</style>\n",
       "<table border=\"1\" class=\"dataframe\">\n",
       "  <thead>\n",
       "    <tr style=\"text-align: right;\">\n",
       "      <th></th>\n",
       "      <th>Age</th>\n",
       "      <th>ARPU</th>\n",
       "      <th>Age on Network</th>\n",
       "      <th>Brand Identifier</th>\n",
       "      <th>Circle Name</th>\n",
       "      <th>Connection Type</th>\n",
       "      <th>Data Usage</th>\n",
       "      <th>Gender</th>\n",
       "      <th>Genre</th>\n",
       "      <th>International Usage</th>\n",
       "      <th>Recharge</th>\n",
       "      <th>SMS Usage</th>\n",
       "      <th>VAS Subscription</th>\n",
       "      <th>Voice Usage</th>\n",
       "      <th>Web/App</th>\n",
       "      <th>DND</th>\n",
       "    </tr>\n",
       "  </thead>\n",
       "  <tbody>\n",
       "    <tr>\n",
       "      <th>0</th>\n",
       "      <td>9.0</td>\n",
       "      <td>1.0</td>\n",
       "      <td>2.0</td>\n",
       "      <td>1.0</td>\n",
       "      <td>2.0</td>\n",
       "      <td>1.0</td>\n",
       "      <td>6.0</td>\n",
       "      <td>1.0</td>\n",
       "      <td>3.0</td>\n",
       "      <td>0.0</td>\n",
       "      <td>1.0</td>\n",
       "      <td>1.0</td>\n",
       "      <td>87.0</td>\n",
       "      <td>1.0</td>\n",
       "      <td>1.0</td>\n",
       "      <td>0.0</td>\n",
       "    </tr>\n",
       "    <tr>\n",
       "      <th>1</th>\n",
       "      <td>4.0</td>\n",
       "      <td>2.0</td>\n",
       "      <td>1.0</td>\n",
       "      <td>1.0</td>\n",
       "      <td>2.0</td>\n",
       "      <td>1.0</td>\n",
       "      <td>2.0</td>\n",
       "      <td>0.0</td>\n",
       "      <td>3.0</td>\n",
       "      <td>0.0</td>\n",
       "      <td>3.0</td>\n",
       "      <td>1.0</td>\n",
       "      <td>85.0</td>\n",
       "      <td>2.0</td>\n",
       "      <td>1.0</td>\n",
       "      <td>0.0</td>\n",
       "    </tr>\n",
       "    <tr>\n",
       "      <th>2</th>\n",
       "      <td>4.0</td>\n",
       "      <td>5.0</td>\n",
       "      <td>7.0</td>\n",
       "      <td>0.0</td>\n",
       "      <td>1.0</td>\n",
       "      <td>0.0</td>\n",
       "      <td>5.0</td>\n",
       "      <td>1.0</td>\n",
       "      <td>2.0</td>\n",
       "      <td>0.0</td>\n",
       "      <td>3.2</td>\n",
       "      <td>1.0</td>\n",
       "      <td>87.0</td>\n",
       "      <td>8.0</td>\n",
       "      <td>0.0</td>\n",
       "      <td>0.0</td>\n",
       "    </tr>\n",
       "    <tr>\n",
       "      <th>3</th>\n",
       "      <td>4.0</td>\n",
       "      <td>7.0</td>\n",
       "      <td>4.0</td>\n",
       "      <td>0.0</td>\n",
       "      <td>1.0</td>\n",
       "      <td>0.0</td>\n",
       "      <td>3.0</td>\n",
       "      <td>1.0</td>\n",
       "      <td>2.0</td>\n",
       "      <td>0.0</td>\n",
       "      <td>3.6</td>\n",
       "      <td>0.0</td>\n",
       "      <td>87.0</td>\n",
       "      <td>2.0</td>\n",
       "      <td>0.0</td>\n",
       "      <td>0.0</td>\n",
       "    </tr>\n",
       "    <tr>\n",
       "      <th>4</th>\n",
       "      <td>9.0</td>\n",
       "      <td>7.0</td>\n",
       "      <td>7.0</td>\n",
       "      <td>0.0</td>\n",
       "      <td>1.0</td>\n",
       "      <td>0.0</td>\n",
       "      <td>2.0</td>\n",
       "      <td>1.0</td>\n",
       "      <td>2.0</td>\n",
       "      <td>0.0</td>\n",
       "      <td>2.6</td>\n",
       "      <td>1.0</td>\n",
       "      <td>87.0</td>\n",
       "      <td>8.0</td>\n",
       "      <td>1.0</td>\n",
       "      <td>0.0</td>\n",
       "    </tr>\n",
       "  </tbody>\n",
       "</table>\n",
       "</div>"
      ],
      "text/plain": [
       "   Age  ARPU  Age on Network  Brand Identifier  Circle Name  Connection Type  \\\n",
       "0  9.0   1.0             2.0               1.0          2.0              1.0   \n",
       "1  4.0   2.0             1.0               1.0          2.0              1.0   \n",
       "2  4.0   5.0             7.0               0.0          1.0              0.0   \n",
       "3  4.0   7.0             4.0               0.0          1.0              0.0   \n",
       "4  9.0   7.0             7.0               0.0          1.0              0.0   \n",
       "\n",
       "   Data Usage  Gender  Genre  International Usage  Recharge  SMS Usage  \\\n",
       "0         6.0     1.0    3.0                  0.0       1.0        1.0   \n",
       "1         2.0     0.0    3.0                  0.0       3.0        1.0   \n",
       "2         5.0     1.0    2.0                  0.0       3.2        1.0   \n",
       "3         3.0     1.0    2.0                  0.0       3.6        0.0   \n",
       "4         2.0     1.0    2.0                  0.0       2.6        1.0   \n",
       "\n",
       "   VAS Subscription  Voice Usage  Web/App  DND  \n",
       "0              87.0          1.0      1.0  0.0  \n",
       "1              85.0          2.0      1.0  0.0  \n",
       "2              87.0          8.0      0.0  0.0  \n",
       "3              87.0          2.0      0.0  0.0  \n",
       "4              87.0          8.0      1.0  0.0  "
      ]
     },
<<<<<<< HEAD
     "execution_count": 9,
=======
     "execution_count": 7,
>>>>>>> 595f3dde4170d7f1991df48737a1e281cf186d0c
     "metadata": {},
     "output_type": "execute_result"
    }
   ],
   "source": [
    "imputer = KNNImputer(missing_values=-1, n_neighbors=5)\n",
    "\n",
    "m, n = 0, test_df.shape[0]//20\n",
    "for i in range(20):\n",
    "    k = test_df.shape[0]//20\n",
    "    test_df[m:n] = imputer.fit_transform(test_df[m:n])\n",
    "    test_df[m:n] = pd.DataFrame(test_df[m:n])\n",
    "    m, n = m+k, n+k\n",
    "test_df.head()"
   ]
  },
  {
   "cell_type": "markdown",
   "metadata": {},
   "source": [
    "### Rounding off the imputed values and converting datatype to int"
   ]
  },
  {
   "cell_type": "code",
<<<<<<< HEAD
   "execution_count": 10,
=======
   "execution_count": 8,
>>>>>>> 595f3dde4170d7f1991df48737a1e281cf186d0c
   "metadata": {},
   "outputs": [],
   "source": [
    "for column in train_df.columns:\n",
    "    train_df[column] = train_df[column].apply(lambda x: round(x))\n",
    "    train_df[column] = train_df[column].astype('int64')\n",
    "    test_df[column] = test_df[column].apply(lambda x: round(x))\n",
    "    test_df[column] = test_df[column].astype('int64')"
   ]
  },
  {
   "cell_type": "code",
<<<<<<< HEAD
   "execution_count": 11,
=======
   "execution_count": 9,
>>>>>>> 595f3dde4170d7f1991df48737a1e281cf186d0c
   "metadata": {},
   "outputs": [
    {
     "data": {
      "text/html": [
       "<div>\n",
       "<style scoped>\n",
       "    .dataframe tbody tr th:only-of-type {\n",
       "        vertical-align: middle;\n",
       "    }\n",
       "\n",
       "    .dataframe tbody tr th {\n",
       "        vertical-align: top;\n",
       "    }\n",
       "\n",
       "    .dataframe thead th {\n",
       "        text-align: right;\n",
       "    }\n",
       "</style>\n",
       "<table border=\"1\" class=\"dataframe\">\n",
       "  <thead>\n",
       "    <tr style=\"text-align: right;\">\n",
       "      <th></th>\n",
       "      <th>Age</th>\n",
       "      <th>ARPU</th>\n",
       "      <th>Age on Network</th>\n",
       "      <th>Brand Identifier</th>\n",
       "      <th>Circle Name</th>\n",
       "      <th>Connection Type</th>\n",
       "      <th>Data Usage</th>\n",
       "      <th>Gender</th>\n",
       "      <th>Genre</th>\n",
       "      <th>International Usage</th>\n",
       "      <th>Recharge</th>\n",
       "      <th>SMS Usage</th>\n",
       "      <th>VAS Subscription</th>\n",
       "      <th>Voice Usage</th>\n",
       "      <th>Web/App</th>\n",
       "      <th>DND</th>\n",
       "    </tr>\n",
       "  </thead>\n",
       "  <tbody>\n",
       "    <tr>\n",
       "      <th>0</th>\n",
       "      <td>9</td>\n",
       "      <td>1</td>\n",
       "      <td>2</td>\n",
       "      <td>1</td>\n",
       "      <td>2</td>\n",
       "      <td>1</td>\n",
       "      <td>6</td>\n",
       "      <td>1</td>\n",
       "      <td>3</td>\n",
       "      <td>0</td>\n",
       "      <td>1</td>\n",
       "      <td>1</td>\n",
       "      <td>87</td>\n",
       "      <td>1</td>\n",
       "      <td>1</td>\n",
       "      <td>0</td>\n",
       "    </tr>\n",
       "    <tr>\n",
       "      <th>1</th>\n",
       "      <td>4</td>\n",
       "      <td>2</td>\n",
       "      <td>1</td>\n",
       "      <td>1</td>\n",
       "      <td>2</td>\n",
       "      <td>1</td>\n",
       "      <td>2</td>\n",
       "      <td>0</td>\n",
       "      <td>3</td>\n",
       "      <td>0</td>\n",
       "      <td>3</td>\n",
       "      <td>1</td>\n",
       "      <td>85</td>\n",
       "      <td>2</td>\n",
       "      <td>1</td>\n",
       "      <td>0</td>\n",
       "    </tr>\n",
       "    <tr>\n",
       "      <th>2</th>\n",
       "      <td>4</td>\n",
       "      <td>5</td>\n",
       "      <td>7</td>\n",
       "      <td>0</td>\n",
       "      <td>1</td>\n",
       "      <td>0</td>\n",
       "      <td>5</td>\n",
       "      <td>1</td>\n",
       "      <td>2</td>\n",
       "      <td>0</td>\n",
       "      <td>3</td>\n",
       "      <td>1</td>\n",
       "      <td>87</td>\n",
       "      <td>8</td>\n",
       "      <td>0</td>\n",
       "      <td>0</td>\n",
       "    </tr>\n",
       "    <tr>\n",
       "      <th>3</th>\n",
       "      <td>4</td>\n",
       "      <td>7</td>\n",
       "      <td>4</td>\n",
       "      <td>0</td>\n",
       "      <td>1</td>\n",
       "      <td>0</td>\n",
       "      <td>3</td>\n",
       "      <td>1</td>\n",
       "      <td>2</td>\n",
       "      <td>0</td>\n",
       "      <td>4</td>\n",
       "      <td>0</td>\n",
       "      <td>87</td>\n",
       "      <td>2</td>\n",
       "      <td>0</td>\n",
       "      <td>0</td>\n",
       "    </tr>\n",
       "    <tr>\n",
       "      <th>4</th>\n",
       "      <td>9</td>\n",
       "      <td>7</td>\n",
       "      <td>7</td>\n",
       "      <td>0</td>\n",
       "      <td>1</td>\n",
       "      <td>0</td>\n",
       "      <td>2</td>\n",
       "      <td>1</td>\n",
       "      <td>2</td>\n",
       "      <td>0</td>\n",
       "      <td>3</td>\n",
       "      <td>1</td>\n",
       "      <td>87</td>\n",
       "      <td>8</td>\n",
       "      <td>1</td>\n",
       "      <td>0</td>\n",
       "    </tr>\n",
       "  </tbody>\n",
       "</table>\n",
       "</div>"
      ],
      "text/plain": [
       "   Age  ARPU  Age on Network  Brand Identifier  Circle Name  Connection Type  \\\n",
       "0    9     1               2                 1            2                1   \n",
       "1    4     2               1                 1            2                1   \n",
       "2    4     5               7                 0            1                0   \n",
       "3    4     7               4                 0            1                0   \n",
       "4    9     7               7                 0            1                0   \n",
       "\n",
       "   Data Usage  Gender  Genre  International Usage  Recharge  SMS Usage  \\\n",
       "0           6       1      3                    0         1          1   \n",
       "1           2       0      3                    0         3          1   \n",
       "2           5       1      2                    0         3          1   \n",
       "3           3       1      2                    0         4          0   \n",
       "4           2       1      2                    0         3          1   \n",
       "\n",
       "   VAS Subscription  Voice Usage  Web/App  DND  \n",
       "0                87            1        1    0  \n",
       "1                85            2        1    0  \n",
       "2                87            8        0    0  \n",
       "3                87            2        0    0  \n",
       "4                87            8        1    0  "
      ]
     },
<<<<<<< HEAD
     "execution_count": 11,
=======
     "execution_count": 9,
>>>>>>> 595f3dde4170d7f1991df48737a1e281cf186d0c
     "metadata": {},
     "output_type": "execute_result"
    }
   ],
   "source": [
    "test_df.head()"
   ]
  },
  {
   "cell_type": "code",
<<<<<<< HEAD
   "execution_count": 12,
=======
   "execution_count": 10,
>>>>>>> 595f3dde4170d7f1991df48737a1e281cf186d0c
   "metadata": {},
   "outputs": [
    {
     "data": {
      "text/html": [
       "<div>\n",
       "<style scoped>\n",
       "    .dataframe tbody tr th:only-of-type {\n",
       "        vertical-align: middle;\n",
       "    }\n",
       "\n",
       "    .dataframe tbody tr th {\n",
       "        vertical-align: top;\n",
       "    }\n",
       "\n",
       "    .dataframe thead th {\n",
       "        text-align: right;\n",
       "    }\n",
       "</style>\n",
       "<table border=\"1\" class=\"dataframe\">\n",
       "  <thead>\n",
       "    <tr style=\"text-align: right;\">\n",
       "      <th></th>\n",
       "      <th>Age</th>\n",
       "      <th>ARPU</th>\n",
       "      <th>Age on Network</th>\n",
       "      <th>Brand Identifier</th>\n",
       "      <th>Circle Name</th>\n",
       "      <th>Connection Type</th>\n",
       "      <th>Data Usage</th>\n",
       "      <th>Gender</th>\n",
       "      <th>Genre</th>\n",
       "      <th>International Usage</th>\n",
       "      <th>Recharge</th>\n",
       "      <th>SMS Usage</th>\n",
       "      <th>VAS Subscription</th>\n",
       "      <th>Voice Usage</th>\n",
       "      <th>Web/App</th>\n",
       "      <th>DND</th>\n",
       "    </tr>\n",
       "  </thead>\n",
       "  <tbody>\n",
       "    <tr>\n",
       "      <th>0</th>\n",
       "      <td>1</td>\n",
       "      <td>1</td>\n",
       "      <td>2</td>\n",
       "      <td>1</td>\n",
       "      <td>2</td>\n",
       "      <td>1</td>\n",
       "      <td>2</td>\n",
       "      <td>1</td>\n",
       "      <td>2</td>\n",
       "      <td>0</td>\n",
       "      <td>6</td>\n",
       "      <td>6</td>\n",
       "      <td>43</td>\n",
       "      <td>5</td>\n",
       "      <td>1</td>\n",
       "      <td>0</td>\n",
       "    </tr>\n",
       "    <tr>\n",
       "      <th>1</th>\n",
       "      <td>4</td>\n",
       "      <td>1</td>\n",
       "      <td>6</td>\n",
       "      <td>1</td>\n",
       "      <td>2</td>\n",
       "      <td>1</td>\n",
       "      <td>6</td>\n",
       "      <td>1</td>\n",
       "      <td>3</td>\n",
       "      <td>0</td>\n",
       "      <td>3</td>\n",
       "      <td>1</td>\n",
       "      <td>87</td>\n",
       "      <td>7</td>\n",
       "      <td>1</td>\n",
       "      <td>0</td>\n",
       "    </tr>\n",
       "    <tr>\n",
       "      <th>2</th>\n",
       "      <td>2</td>\n",
       "      <td>2</td>\n",
       "      <td>7</td>\n",
       "      <td>0</td>\n",
       "      <td>0</td>\n",
       "      <td>1</td>\n",
       "      <td>2</td>\n",
       "      <td>1</td>\n",
       "      <td>3</td>\n",
       "      <td>0</td>\n",
       "      <td>2</td>\n",
       "      <td>1</td>\n",
       "      <td>87</td>\n",
       "      <td>8</td>\n",
       "      <td>1</td>\n",
       "      <td>1</td>\n",
       "    </tr>\n",
       "    <tr>\n",
       "      <th>3</th>\n",
       "      <td>9</td>\n",
       "      <td>7</td>\n",
       "      <td>1</td>\n",
       "      <td>1</td>\n",
       "      <td>3</td>\n",
       "      <td>1</td>\n",
       "      <td>7</td>\n",
       "      <td>0</td>\n",
       "      <td>2</td>\n",
       "      <td>1</td>\n",
       "      <td>4</td>\n",
       "      <td>1</td>\n",
       "      <td>87</td>\n",
       "      <td>5</td>\n",
       "      <td>1</td>\n",
       "      <td>1</td>\n",
       "    </tr>\n",
       "    <tr>\n",
       "      <th>4</th>\n",
       "      <td>9</td>\n",
       "      <td>4</td>\n",
       "      <td>3</td>\n",
       "      <td>1</td>\n",
       "      <td>2</td>\n",
       "      <td>0</td>\n",
       "      <td>2</td>\n",
       "      <td>3</td>\n",
       "      <td>3</td>\n",
       "      <td>0</td>\n",
       "      <td>3</td>\n",
       "      <td>3</td>\n",
       "      <td>43</td>\n",
       "      <td>5</td>\n",
       "      <td>1</td>\n",
       "      <td>0</td>\n",
       "    </tr>\n",
       "  </tbody>\n",
       "</table>\n",
       "</div>"
      ],
      "text/plain": [
       "   Age  ARPU  Age on Network  Brand Identifier  Circle Name  Connection Type  \\\n",
       "0    1     1               2                 1            2                1   \n",
       "1    4     1               6                 1            2                1   \n",
       "2    2     2               7                 0            0                1   \n",
       "3    9     7               1                 1            3                1   \n",
       "4    9     4               3                 1            2                0   \n",
       "\n",
       "   Data Usage  Gender  Genre  International Usage  Recharge  SMS Usage  \\\n",
       "0           2       1      2                    0         6          6   \n",
       "1           6       1      3                    0         3          1   \n",
       "2           2       1      3                    0         2          1   \n",
       "3           7       0      2                    1         4          1   \n",
       "4           2       3      3                    0         3          3   \n",
       "\n",
       "   VAS Subscription  Voice Usage  Web/App  DND  \n",
       "0                43            5        1    0  \n",
       "1                87            7        1    0  \n",
       "2                87            8        1    1  \n",
       "3                87            5        1    1  \n",
       "4                43            5        1    0  "
      ]
     },
<<<<<<< HEAD
     "execution_count": 12,
=======
     "execution_count": 10,
>>>>>>> 595f3dde4170d7f1991df48737a1e281cf186d0c
     "metadata": {},
     "output_type": "execute_result"
    }
   ],
   "source": [
    "train_df.head()"
   ]
  },
  {
   "cell_type": "markdown",
   "metadata": {},
   "source": [
    "# Checking"
   ]
  },
  {
   "cell_type": "code",
<<<<<<< HEAD
   "execution_count": 13,
=======
   "execution_count": 11,
>>>>>>> 595f3dde4170d7f1991df48737a1e281cf186d0c
   "metadata": {},
   "outputs": [],
   "source": [
    "train_df.drop([112582, 112583, 112588], inplace=True)"
   ]
  },
  {
   "cell_type": "code",
<<<<<<< HEAD
   "execution_count": 14,
=======
   "execution_count": 12,
>>>>>>> 595f3dde4170d7f1991df48737a1e281cf186d0c
   "metadata": {},
   "outputs": [
    {
     "data": {
      "text/plain": [
       "Age                    0\n",
       "ARPU                   0\n",
       "Age on Network         0\n",
       "Brand Identifier       0\n",
       "Circle Name            0\n",
       "Connection Type        0\n",
       "Data Usage             0\n",
       "Gender                 0\n",
       "Genre                  0\n",
       "International Usage    0\n",
       "Recharge               0\n",
       "SMS Usage              0\n",
       "VAS Subscription       0\n",
       "Voice Usage            0\n",
       "Web/App                0\n",
       "DND                    0\n",
       "dtype: int64"
      ]
     },
<<<<<<< HEAD
     "execution_count": 14,
=======
     "execution_count": 12,
>>>>>>> 595f3dde4170d7f1991df48737a1e281cf186d0c
     "metadata": {},
     "output_type": "execute_result"
    }
   ],
   "source": [
    "train_df.replace(-1, np.nan).isnull().sum()"
   ]
  },
  {
   "cell_type": "code",
<<<<<<< HEAD
   "execution_count": 15,
=======
   "execution_count": 13,
>>>>>>> 595f3dde4170d7f1991df48737a1e281cf186d0c
   "metadata": {},
   "outputs": [
    {
     "data": {
      "text/plain": [
       "Age                    0\n",
       "ARPU                   0\n",
       "Age on Network         0\n",
       "Brand Identifier       0\n",
       "Circle Name            0\n",
       "Connection Type        0\n",
       "Data Usage             0\n",
       "Gender                 0\n",
       "Genre                  0\n",
       "International Usage    0\n",
       "Recharge               0\n",
       "SMS Usage              0\n",
       "VAS Subscription       0\n",
       "Voice Usage            0\n",
       "Web/App                0\n",
       "DND                    0\n",
       "dtype: int64"
      ]
     },
<<<<<<< HEAD
     "execution_count": 15,
=======
     "execution_count": 13,
>>>>>>> 595f3dde4170d7f1991df48737a1e281cf186d0c
     "metadata": {},
     "output_type": "execute_result"
    }
   ],
   "source": [
    "test_df.replace(-1, np.nan).isnull().sum()"
   ]
  },
  {
   "cell_type": "code",
<<<<<<< HEAD
   "execution_count": 16,
=======
   "execution_count": 14,
>>>>>>> 595f3dde4170d7f1991df48737a1e281cf186d0c
   "metadata": {},
   "outputs": [
    {
     "data": {
      "text/plain": [
       "(112586, 16)"
      ]
     },
<<<<<<< HEAD
     "execution_count": 16,
=======
     "execution_count": 14,
>>>>>>> 595f3dde4170d7f1991df48737a1e281cf186d0c
     "metadata": {},
     "output_type": "execute_result"
    }
   ],
   "source": [
    "train_df.shape"
   ]
  },
  {
   "cell_type": "markdown",
   "metadata": {},
   "source": [
    "# TO THE CSV"
   ]
  },
  {
   "cell_type": "code",
<<<<<<< HEAD
   "execution_count": 17,
   "metadata": {},
   "outputs": [],
   "source": [
    "train_df.to_csv('E:\\VIL Confidential Information Dataset\\Train_imputed.csv')\n",
    "test_df.to_csv('E:\\VIL Confidential Information Dataset\\Test_imputed.csv')"
=======
   "execution_count": 15,
   "metadata": {},
   "outputs": [],
   "source": [
    "train_df.to_csv('E:\\VIL Codefest\\secret\\VIL Confidential Information Dataset\\Train_imputed.csv', index=False)\n",
    "test_df.to_csv('E:\\VIL Codefest\\secret\\VIL Confidential Information Dataset\\Test_imputed.csv', index=False)"
>>>>>>> 595f3dde4170d7f1991df48737a1e281cf186d0c
   ]
  }
 ],
 "metadata": {
  "kernelspec": {
   "display_name": "Python 3",
   "language": "python",
   "name": "python3"
  },
  "language_info": {
   "codemirror_mode": {
    "name": "ipython",
    "version": 3
   },
   "file_extension": ".py",
   "mimetype": "text/x-python",
   "name": "python",
   "nbconvert_exporter": "python",
   "pygments_lexer": "ipython3",
   "version": "3.7.4"
  }
 },
 "nbformat": 4,
 "nbformat_minor": 2
}
